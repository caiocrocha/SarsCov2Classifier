{
 "cells": [
  {
   "cell_type": "code",
   "execution_count": 3,
   "metadata": {},
   "outputs": [],
   "source": [
    "import pandas as pd\n",
    "import numpy as np\n",
    "import seaborn as sns\n",
    "import matplotlib.pyplot as plt\n",
    "%matplotlib inline"
   ]
  },
  {
   "cell_type": "code",
   "execution_count": 4,
   "metadata": {},
   "outputs": [],
   "source": [
    "with open('features.lst', 'r') as file:\n",
    "    features = file.read().splitlines()"
   ]
  },
  {
   "cell_type": "code",
   "execution_count": 5,
   "metadata": {},
   "outputs": [
    {
     "data": {
      "text/html": [
       "<div>\n",
       "<style scoped>\n",
       "    .dataframe tbody tr th:only-of-type {\n",
       "        vertical-align: middle;\n",
       "    }\n",
       "\n",
       "    .dataframe tbody tr th {\n",
       "        vertical-align: top;\n",
       "    }\n",
       "\n",
       "    .dataframe thead th {\n",
       "        text-align: right;\n",
       "    }\n",
       "</style>\n",
       "<table border=\"1\" class=\"dataframe\">\n",
       "  <thead>\n",
       "    <tr style=\"text-align: right;\">\n",
       "      <th></th>\n",
       "      <th>CID</th>\n",
       "      <th>activity</th>\n",
       "      <th>GATS3m</th>\n",
       "      <th>GATS1m</th>\n",
       "      <th>AATS4i</th>\n",
       "      <th>GATS1pe</th>\n",
       "      <th>GATS4m</th>\n",
       "      <th>GATS3se</th>\n",
       "      <th>ATSC2m</th>\n",
       "    </tr>\n",
       "  </thead>\n",
       "  <tbody>\n",
       "    <tr>\n",
       "      <th>0</th>\n",
       "      <td>JAG-UCB-4709a583-1</td>\n",
       "      <td>0</td>\n",
       "      <td>0.970061</td>\n",
       "      <td>0.537791</td>\n",
       "      <td>163.606396</td>\n",
       "      <td>0.665118</td>\n",
       "      <td>0.953853</td>\n",
       "      <td>0.957548</td>\n",
       "      <td>-7.853283</td>\n",
       "    </tr>\n",
       "    <tr>\n",
       "      <th>1</th>\n",
       "      <td>LON-WEI-b8d98729-9</td>\n",
       "      <td>0</td>\n",
       "      <td>0.962716</td>\n",
       "      <td>0.501345</td>\n",
       "      <td>156.473669</td>\n",
       "      <td>0.640952</td>\n",
       "      <td>0.764865</td>\n",
       "      <td>1.127119</td>\n",
       "      <td>-88.020465</td>\n",
       "    </tr>\n",
       "    <tr>\n",
       "      <th>2</th>\n",
       "      <td>MAT-POS-916a2c5a-2</td>\n",
       "      <td>1</td>\n",
       "      <td>0.930692</td>\n",
       "      <td>0.736034</td>\n",
       "      <td>156.298629</td>\n",
       "      <td>0.733243</td>\n",
       "      <td>1.085959</td>\n",
       "      <td>1.053636</td>\n",
       "      <td>-26.534927</td>\n",
       "    </tr>\n",
       "    <tr>\n",
       "      <th>3</th>\n",
       "      <td>ERI-BAS-37e2bb46-1</td>\n",
       "      <td>0</td>\n",
       "      <td>0.981993</td>\n",
       "      <td>0.723451</td>\n",
       "      <td>164.587065</td>\n",
       "      <td>0.742251</td>\n",
       "      <td>1.259074</td>\n",
       "      <td>0.993863</td>\n",
       "      <td>6.320989</td>\n",
       "    </tr>\n",
       "    <tr>\n",
       "      <th>4</th>\n",
       "      <td>LON-WEI-adc59df6-1</td>\n",
       "      <td>0</td>\n",
       "      <td>1.051077</td>\n",
       "      <td>0.833837</td>\n",
       "      <td>161.930498</td>\n",
       "      <td>0.668320</td>\n",
       "      <td>0.956446</td>\n",
       "      <td>0.942484</td>\n",
       "      <td>396.856136</td>\n",
       "    </tr>\n",
       "  </tbody>\n",
       "</table>\n",
       "</div>"
      ],
      "text/plain": [
       "                  CID  activity    GATS3m    GATS1m      AATS4i   GATS1pe  \\\n",
       "0  JAG-UCB-4709a583-1         0  0.970061  0.537791  163.606396  0.665118   \n",
       "1  LON-WEI-b8d98729-9         0  0.962716  0.501345  156.473669  0.640952   \n",
       "2  MAT-POS-916a2c5a-2         1  0.930692  0.736034  156.298629  0.733243   \n",
       "3  ERI-BAS-37e2bb46-1         0  0.981993  0.723451  164.587065  0.742251   \n",
       "4  LON-WEI-adc59df6-1         0  1.051077  0.833837  161.930498  0.668320   \n",
       "\n",
       "     GATS4m   GATS3se      ATSC2m  \n",
       "0  0.953853  0.957548   -7.853283  \n",
       "1  0.764865  1.127119  -88.020465  \n",
       "2  1.085959  1.053636  -26.534927  \n",
       "3  1.259074  0.993863    6.320989  \n",
       "4  0.956446  0.942484  396.856136  "
      ]
     },
     "execution_count": 5,
     "metadata": {},
     "output_type": "execute_result"
    }
   ],
   "source": [
    "# Read the data\n",
    "training = pd.read_csv('training_set.csv.gz', compression='gzip')\n",
    "training[['CID','activity'] + features].head()"
   ]
  },
  {
   "cell_type": "code",
   "execution_count": 6,
   "metadata": {},
   "outputs": [],
   "source": [
    "def get_model_by_name(model_name):\n",
    "    if model_name == 'RandomForestClassifier':\n",
    "        from sklearn.ensemble import RandomForestClassifier\n",
    "        return RandomForestClassifier(n_estimators=500, max_depth=6, random_state=13)\n",
    "    elif model_name == 'KNeighborsClassifier':\n",
    "        from sklearn.neighbors import KNeighborsClassifier\n",
    "        return KNeighborsClassifier(n_neighbors=23) # N = sqrt(len(X_train))\n",
    "    elif model_name == 'XGBClassifier':\n",
    "        from xgboost import XGBClassifier\n",
    "        return XGBClassifier(objective='binary:logistic', n_estimators=200, \n",
    "            max_depth=5, eta=0.01, random_state=13)\n",
    "    elif model_name == 'DecisionTreeClassifier':\n",
    "        from sklearn.tree import DecisionTreeClassifier\n",
    "        return DecisionTreeClassifier(max_depth=5, random_state=13)\n",
    "    elif model_name == 'LogisticRegression':\n",
    "        from sklearn.linear_model import LogisticRegression\n",
    "        return LogisticRegression(solver='liblinear', random_state=13)\n",
    "    elif model_name == 'LinearSVC':\n",
    "        from sklearn.svm import LinearSVC\n",
    "        from sklearn.calibration import CalibratedClassifierCV\n",
    "        # CalibratedClassifierCV applies probability transformation \n",
    "        # on top of the SVC outputs, so we can plot the ROC curve\n",
    "        # https://stackoverflow.com/a/39712590/13131079\n",
    "        return CalibratedClassifierCV(base_estimator=LinearSVC(dual=False, random_state=13))\n",
    "    \n",
    "    \n",
    "def train_test_scores(X_train, X_test, y_train, y_test, pipe):\n",
    "    from sklearn.metrics import roc_auc_score\n",
    "    from sklearn.metrics import fbeta_score\n",
    "    from imblearn.metrics import geometric_mean_score\n",
    "    \n",
    "    scores = []\n",
    "    \n",
    "    y_pred = pipe.predict(X_test)\n",
    "    scores.append(roc_auc_score(y_test, y_pred))         # test_roc_auc\n",
    "    scores.append(fbeta_score(y_test, y_pred, beta=2))   # test_f2\n",
    "    scores.append(geometric_mean_score(y_test, y_pred))  # test_geometric_mean\n",
    "    \n",
    "    y_pred = pipe.predict(X_train)\n",
    "    scores.append(roc_auc_score(y_train, y_pred))        # train_roc_auc\n",
    "    scores.append(fbeta_score(y_train, y_pred, beta=2))  # train_f2\n",
    "    scores.append(geometric_mean_score(y_train, y_pred)) # train_geometric_mean\n",
    "    \n",
    "    return scores\n",
    "\n",
    "\n",
    "def feature_transformer(X):\n",
    "    from sklearn.compose import ColumnTransformer\n",
    "    from sklearn.preprocessing import StandardScaler\n",
    "    from sklearn.preprocessing import OneHotEncoder\n",
    "\n",
    "    return ColumnTransformer(transformers=[\n",
    "        ('continuous', StandardScaler(), X.select_dtypes(include=float).columns.tolist()), \n",
    "        ('discrete', OneHotEncoder(handle_unknown='ignore'), X.select_dtypes(include=int).columns.tolist())\n",
    "    ])"
   ]
  },
  {
   "cell_type": "code",
   "execution_count": 7,
   "metadata": {},
   "outputs": [],
   "source": [
    "def get_tpr_KFold(X, y, model_fitted, base_fpr):\n",
    "    from sklearn.metrics import roc_curve\n",
    "    \n",
    "    y_proba = model_fitted.predict_proba(X)\n",
    "    fpr, tpr, _ = roc_curve(y, y_proba[:,1])\n",
    "    tpr = np.interp(base_fpr, fpr, tpr)\n",
    "    tpr[0] = 0.0\n",
    "    return tpr\n",
    "\n",
    "def plot_train_test_roc(axis, tpr_test_list, tpr_train_list, base_fpr, model_name):\n",
    "    from sklearn.metrics import auc\n",
    "    # Test mean ROC\n",
    "    tpr_test = np.mean(tpr_test_list, axis=0)\n",
    "    tpr_test[-1] = 1.0\n",
    "    test_auc = auc(base_fpr, tpr_test)\n",
    "    axis[0].plot(base_fpr, tpr_test, label=model_name)\n",
    "\n",
    "    # Training mean ROC\n",
    "    tpr_train = np.mean(tpr_train_list, axis=0)\n",
    "    tpr_train[-1] = 1.0\n",
    "    train_auc = auc(base_fpr, tpr_train)\n",
    "    axis[1].plot(base_fpr, tpr_train, label=model_name)\n",
    "    \n",
    "    return test_auc, train_auc\n",
    "\n",
    "def get_scores_KFold(X, y, pipe, base_fpr):\n",
    "    from sklearn.model_selection import RepeatedStratifiedKFold\n",
    "    \n",
    "    scores_KFold = []\n",
    "    tpr_train_list = []\n",
    "    tpr_test_list = []\n",
    "    \n",
    "    skf = RepeatedStratifiedKFold(n_splits=5, n_repeats=10, random_state=5)\n",
    "    for train_index, test_index in skf.split(X, y): \n",
    "        X_train, X_test = X.iloc[train_index], X.iloc[test_index]\n",
    "        y_train, y_test = y.iloc[train_index], y.iloc[test_index] \n",
    "        \n",
    "        # Fit Pipeline\n",
    "        pipe.fit(X_train, y_train)\n",
    "\n",
    "        # Test and training scores\n",
    "        scores_KFold.append(train_test_scores(X_train, X_test, y_train, y_test, pipe))\n",
    "        \n",
    "        # Test TPR (True Positive Rate)\n",
    "        tpr_test_list.append(get_tpr_KFold(X_test, y_test, pipe, base_fpr))\n",
    "        # Training TPR\n",
    "        tpr_train_list.append(get_tpr_KFold(X_train, y_train, pipe, base_fpr))\n",
    "    \n",
    "    return scores_KFold, tpr_train_list, tpr_test_list\n",
    "\n",
    "def kFold_pipeline(X, y, clf, transformer, axis):\n",
    "    from imblearn.over_sampling import SMOTE\n",
    "    from imblearn.pipeline import make_pipeline\n",
    "    from sklearn.model_selection import RepeatedStratifiedKFold\n",
    "\n",
    "    base_fpr = np.linspace(0, 1, 101)\n",
    "    pipe = make_pipeline(SMOTE(random_state=42), transformer, clf)\n",
    "        \n",
    "    scores_KFold, tpr_train_list, tpr_test_list = get_scores_KFold(X, y, pipe, base_fpr)\n",
    "    \n",
    "    # Plot mean ROC curve\n",
    "    test_auc, train_auc = plot_train_test_roc(axis, tpr_test_list, tpr_train_list, base_fpr, model_name)\n",
    "    \n",
    "    scores = pd.DataFrame(scores_KFold)\n",
    "    mean_scores = scores.mean().tolist()\n",
    "    return mean_scores"
   ]
  },
  {
   "cell_type": "code",
   "execution_count": 8,
   "metadata": {},
   "outputs": [],
   "source": [
    "# ML classfifiers\n",
    "classifiers = ['LogisticRegression', 'RandomForestClassifier', 'KNeighborsClassifier', 'LinearSVC', 'XGBClassifier', 'DecisionTreeClassifier']\n",
    "\n",
    "y = training['activity']\n",
    "X = training[features]\n",
    "\n",
    "transformer = feature_transformer(X)"
   ]
  },
  {
   "cell_type": "code",
   "execution_count": 9,
   "metadata": {
    "scrolled": false
   },
   "outputs": [
    {
     "data": {
      "image/png": "[encoded data removed]",
      "text/plain": [
       "<Figure size 921.6x345.6 with 2 Axes>"
      ]
     },
     "metadata": {
      "needs_background": "light"
     },
     "output_type": "display_data"
    },
    {
     "data": {
      "text/html": [
       "<div>\n",
       "<style scoped>\n",
       "    .dataframe tbody tr th:only-of-type {\n",
       "        vertical-align: middle;\n",
       "    }\n",
       "\n",
       "    .dataframe tbody tr th {\n",
       "        vertical-align: top;\n",
       "    }\n",
       "\n",
       "    .dataframe thead th {\n",
       "        text-align: right;\n",
       "    }\n",
       "</style>\n",
       "<table border=\"1\" class=\"dataframe\">\n",
       "  <thead>\n",
       "    <tr style=\"text-align: right;\">\n",
       "      <th></th>\n",
       "      <th>test_f2</th>\n",
       "      <th>test_geometric_mean</th>\n",
       "      <th>test_roc_auc</th>\n",
       "      <th>train_f2</th>\n",
       "      <th>train_geometric_mean</th>\n",
       "      <th>train_roc_auc</th>\n",
       "      <th>clf</th>\n",
       "      <th>test_mean</th>\n",
       "      <th>train_mean</th>\n",
       "    </tr>\n",
       "  </thead>\n",
       "  <tbody>\n",
       "    <tr>\n",
       "      <th>0</th>\n",
       "      <td>0.680531</td>\n",
       "      <td>0.554377</td>\n",
       "      <td>0.676575</td>\n",
       "      <td>0.700887</td>\n",
       "      <td>0.585097</td>\n",
       "      <td>0.700446</td>\n",
       "      <td>LogisticRegression</td>\n",
       "      <td>0.637161</td>\n",
       "      <td>0.662143</td>\n",
       "    </tr>\n",
       "    <tr>\n",
       "      <th>1</th>\n",
       "      <td>0.680129</td>\n",
       "      <td>0.529696</td>\n",
       "      <td>0.668506</td>\n",
       "      <td>0.913814</td>\n",
       "      <td>0.871204</td>\n",
       "      <td>0.913203</td>\n",
       "      <td>RandomForestClassifier</td>\n",
       "      <td>0.626110</td>\n",
       "      <td>0.899407</td>\n",
       "    </tr>\n",
       "    <tr>\n",
       "      <th>2</th>\n",
       "      <td>0.704180</td>\n",
       "      <td>0.618721</td>\n",
       "      <td>0.698575</td>\n",
       "      <td>0.747993</td>\n",
       "      <td>0.674755</td>\n",
       "      <td>0.741114</td>\n",
       "      <td>KNeighborsClassifier</td>\n",
       "      <td>0.673825</td>\n",
       "      <td>0.721287</td>\n",
       "    </tr>\n",
       "    <tr>\n",
       "      <th>3</th>\n",
       "      <td>0.679277</td>\n",
       "      <td>0.552491</td>\n",
       "      <td>0.675419</td>\n",
       "      <td>0.701885</td>\n",
       "      <td>0.586773</td>\n",
       "      <td>0.701477</td>\n",
       "      <td>LinearSVC</td>\n",
       "      <td>0.635729</td>\n",
       "      <td>0.663378</td>\n",
       "    </tr>\n",
       "    <tr>\n",
       "      <th>4</th>\n",
       "      <td>0.678570</td>\n",
       "      <td>0.528827</td>\n",
       "      <td>0.668276</td>\n",
       "      <td>0.911061</td>\n",
       "      <td>0.866357</td>\n",
       "      <td>0.910693</td>\n",
       "      <td>XGBClassifier</td>\n",
       "      <td>0.625224</td>\n",
       "      <td>0.896037</td>\n",
       "    </tr>\n",
       "    <tr>\n",
       "      <th>5</th>\n",
       "      <td>0.650993</td>\n",
       "      <td>0.524390</td>\n",
       "      <td>0.645371</td>\n",
       "      <td>0.809294</td>\n",
       "      <td>0.733045</td>\n",
       "      <td>0.806584</td>\n",
       "      <td>DecisionTreeClassifier</td>\n",
       "      <td>0.606918</td>\n",
       "      <td>0.782974</td>\n",
       "    </tr>\n",
       "  </tbody>\n",
       "</table>\n",
       "</div>"
      ],
      "text/plain": [
       "    test_f2  test_geometric_mean  test_roc_auc  train_f2  \\\n",
       "0  0.680531             0.554377      0.676575  0.700887   \n",
       "1  0.680129             0.529696      0.668506  0.913814   \n",
       "2  0.704180             0.618721      0.698575  0.747993   \n",
       "3  0.679277             0.552491      0.675419  0.701885   \n",
       "4  0.678570             0.528827      0.668276  0.911061   \n",
       "5  0.650993             0.524390      0.645371  0.809294   \n",
       "\n",
       "   train_geometric_mean  train_roc_auc                     clf  test_mean  \\\n",
       "0              0.585097       0.700446      LogisticRegression   0.637161   \n",
       "1              0.871204       0.913203  RandomForestClassifier   0.626110   \n",
       "2              0.674755       0.741114    KNeighborsClassifier   0.673825   \n",
       "3              0.586773       0.701477               LinearSVC   0.635729   \n",
       "4              0.866357       0.910693           XGBClassifier   0.625224   \n",
       "5              0.733045       0.806584  DecisionTreeClassifier   0.606918   \n",
       "\n",
       "   train_mean  \n",
       "0    0.662143  \n",
       "1    0.899407  \n",
       "2    0.721287  \n",
       "3    0.663378  \n",
       "4    0.896037  \n",
       "5    0.782974  "
      ]
     },
     "execution_count": 9,
     "metadata": {},
     "output_type": "execute_result"
    }
   ],
   "source": [
    "from sklearn.metrics import roc_curve\n",
    "from sklearn.metrics import auc\n",
    "\n",
    "fig, ax = plt.subplots(ncols=2, figsize=(12.8, 4.8))\n",
    "\n",
    "scores = []\n",
    "for model_name in classifiers:\n",
    "    clf = get_model_by_name(model_name)\n",
    "    model_scores = kFold_pipeline(X, y, clf, transformer, axis=ax)\n",
    "    model_scores.append(model_name)\n",
    "    scores.append(model_scores)\n",
    "\n",
    "test_metrics = ['test_f2', 'test_geometric_mean', 'test_roc_auc']\n",
    "train_metrics = ['train_f2', 'train_geometric_mean', 'train_roc_auc']\n",
    "columns = test_metrics + train_metrics + ['clf']\n",
    "\n",
    "scores = pd.DataFrame(scores, columns=columns)\n",
    "scores['test_mean'] = scores[test_metrics].mean(axis=1)\n",
    "scores['train_mean'] = scores[train_metrics].mean(axis=1)\n",
    "\n",
    "# Labels and legend\n",
    "ax[0].set(title='Test data', xlabel='False Positive Rate', ylabel='True Positive Rate')\n",
    "ax[0].plot([0,1], [0,1], linestyle='--')\n",
    "ax[1].set(title='Train data', xlabel='False Positive Rate', ylabel='True Positive Rate')\n",
    "ax[1].plot([0,1], [0,1], linestyle='--')\n",
    "\n",
    "handles, labels = plt.gca().get_legend_handles_labels()\n",
    "plt.legend(handles, labels, title='Classifier', bbox_to_anchor=(1.05, 1))\n",
    "plt.suptitle('Receiver Operating Characteristic')\n",
    "plt.savefig('figures/roc_curve.png', bbox_inches='tight', dpi=200)\n",
    "plt.show()\n",
    "\n",
    "scores"
   ]
  },
  {
   "cell_type": "code",
   "execution_count": 10,
   "metadata": {},
   "outputs": [
    {
     "name": "stdout",
     "output_type": "stream",
     "text": [
      "\\begin{tabular}{lrrrr}\n",
      "\\toprule\n",
      "                    clf &  test\\_f2 &  test\\_geometric\\_mean &  test\\_roc\\_auc &  test\\_mean \\\\\n",
      "\\midrule\n",
      "     LogisticRegression &     0.68 &                 0.55 &          0.68 &       0.64 \\\\\n",
      " RandomForestClassifier &     0.68 &                 0.53 &          0.67 &       0.63 \\\\\n",
      "   KNeighborsClassifier &     0.70 &                 0.62 &          0.70 &       0.67 \\\\\n",
      "              LinearSVC &     0.68 &                 0.55 &          0.68 &       0.64 \\\\\n",
      "          XGBClassifier &     0.68 &                 0.53 &          0.67 &       0.63 \\\\\n",
      " DecisionTreeClassifier &     0.65 &                 0.52 &          0.65 &       0.61 \\\\\n",
      "\\bottomrule\n",
      "\\end{tabular}\n",
      "\n"
     ]
    }
   ],
   "source": [
    "print(scores[['clf','test_f2','test_geometric_mean','test_roc_auc','test_mean']].to_latex(index=False, float_format='%.2f'))"
   ]
  },
  {
   "cell_type": "code",
   "execution_count": 11,
   "metadata": {},
   "outputs": [
    {
     "name": "stdout",
     "output_type": "stream",
     "text": [
      "\\begin{tabular}{lrrrr}\n",
      "\\toprule\n",
      "                    clf &  train\\_f2 &  train\\_geometric\\_mean &  train\\_roc\\_auc &  train\\_mean \\\\\n",
      "\\midrule\n",
      "     LogisticRegression &      0.70 &                  0.59 &           0.70 &        0.66 \\\\\n",
      " RandomForestClassifier &      0.91 &                  0.87 &           0.91 &        0.90 \\\\\n",
      "   KNeighborsClassifier &      0.75 &                  0.67 &           0.74 &        0.72 \\\\\n",
      "              LinearSVC &      0.70 &                  0.59 &           0.70 &        0.66 \\\\\n",
      "          XGBClassifier &      0.91 &                  0.87 &           0.91 &        0.90 \\\\\n",
      " DecisionTreeClassifier &      0.81 &                  0.73 &           0.81 &        0.78 \\\\\n",
      "\\bottomrule\n",
      "\\end{tabular}\n",
      "\n"
     ]
    }
   ],
   "source": [
    "print(scores[['clf','train_f2','train_geometric_mean','train_roc_auc','train_mean']].to_latex(index=False, float_format='%.2f'))"
   ]
  },
  {
   "cell_type": "code",
   "execution_count": 12,
   "metadata": {},
   "outputs": [],
   "source": [
    "validation = pd.read_csv('validation_set.csv.gz', compression='gzip')\n",
    "y_val = validation['activity']\n",
    "X_val = validation[features]"
   ]
  },
  {
   "cell_type": "code",
   "execution_count": 13,
   "metadata": {},
   "outputs": [],
   "source": [
    "def print_confusion_matrix(y_true, y_pred):\n",
    "    from sklearn.metrics import confusion_matrix  \n",
    "    conf_matrix = confusion_matrix(y_true, y_pred, normalize='true')\n",
    "    matrix = pd.DataFrame(conf_matrix)\n",
    "    print(matrix.round(2))"
   ]
  },
  {
   "cell_type": "code",
   "execution_count": 14,
   "metadata": {},
   "outputs": [],
   "source": [
    "from imblearn.over_sampling import SMOTE\n",
    "from imblearn.pipeline import make_pipeline\n",
    "\n",
    "Y = pd.DataFrame(validation['CID'])\n",
    "probas = pd.DataFrame(validation['CID'])\n",
    "\n",
    "for model_name in classifiers:\n",
    "    clf = get_model_by_name(model_name)\n",
    "    pipe = make_pipeline(SMOTE(random_state=42), transformer, clf)\n",
    "    pipe.fit(X, y)\n",
    "    \n",
    "    y_pred = pipe.predict(X_val)\n",
    "    Y[model_name] = y_pred\n",
    "    \n",
    "    y_proba = pipe.predict_proba(X_val)\n",
    "    probas[model_name] = y_proba[:,1]"
   ]
  },
  {
   "cell_type": "code",
   "execution_count": 15,
   "metadata": {},
   "outputs": [],
   "source": [
    "def print_confusion_matrix(y_true, y_pred):\n",
    "    from sklearn.metrics import confusion_matrix  \n",
    "    conf_matrix = confusion_matrix(y_true, y_pred, normalize='true')\n",
    "    matrix = pd.DataFrame(conf_matrix)\n",
    "    print(matrix.round(2))"
   ]
  },
  {
   "cell_type": "code",
   "execution_count": 16,
   "metadata": {},
   "outputs": [
    {
     "name": "stdout",
     "output_type": "stream",
     "text": [
      "\n",
      " LogisticRegression\n",
      "      0     1\n",
      "0  0.68  0.32\n",
      "1  0.31  0.69\n",
      "\n",
      " RandomForestClassifier\n",
      "      0     1\n",
      "0  0.79  0.21\n",
      "1  0.42  0.58\n",
      "\n",
      " KNeighborsClassifier\n",
      "      0     1\n",
      "0  0.63  0.37\n",
      "1  0.25  0.75\n",
      "\n",
      " LinearSVC\n",
      "      0     1\n",
      "0  0.67  0.33\n",
      "1  0.31  0.69\n",
      "\n",
      " XGBClassifier\n",
      "      0     1\n",
      "0  0.75  0.25\n",
      "1  0.28  0.72\n",
      "\n",
      " DecisionTreeClassifier\n",
      "      0     1\n",
      "0  0.56  0.44\n",
      "1  0.19  0.81\n"
     ]
    }
   ],
   "source": [
    "for model_name in classifiers:\n",
    "    print('\\n', model_name)\n",
    "    print_confusion_matrix(y_val, Y[model_name])\n",
    "    \n",
    "# TN FN\n",
    "# FP TP"
   ]
  },
  {
   "cell_type": "code",
   "execution_count": 17,
   "metadata": {},
   "outputs": [
    {
     "name": "stdout",
     "output_type": "stream",
     "text": [
      "Model               \tAUC\tF2 \tG-Mean\n",
      "LogisticRegression  \t0.72\t0.62\t0.69\n",
      "RandomForestClassifier\t0.78\t0.56\t0.68\n",
      "KNeighborsClassifier\t0.75\t0.65\t0.69\n",
      "LinearSVC           \t0.72\t0.62\t0.68\n",
      "XGBClassifier       \t0.78\t0.66\t0.73\n",
      "DecisionTreeClassifier\t0.70\t0.67\t0.67\n"
     ]
    },
    {
     "data": {
      "image/png": "[encoded data removed]",
      "text/plain": [
       "<Figure size 432x288 with 1 Axes>"
      ]
     },
     "metadata": {
      "needs_background": "light"
     },
     "output_type": "display_data"
    }
   ],
   "source": [
    "import matplotlib.pyplot as plt\n",
    "%matplotlib inline\n",
    "import seaborn as sns\n",
    "from sklearn.metrics import roc_curve\n",
    "from sklearn.metrics import auc\n",
    "from sklearn.metrics import fbeta_score\n",
    "from imblearn.metrics import geometric_mean_score\n",
    "\n",
    "print('{:20s}\\t{:3s}\\t{:3s}\\t{:3s}'.format('Model', 'AUC', 'F2', 'G-Mean'))\n",
    "\n",
    "for model_name in classifiers:\n",
    "    y_proba = probas[model_name]\n",
    "    fpr, tpr, _ = roc_curve(y_val, y_proba)\n",
    "    auc_score = auc(fpr, tpr)\n",
    "    plt.plot(fpr, tpr, label=f'{model_name}: {auc_score:>.3f}')\n",
    "    print(f'{model_name:20s}\\t{auc_score:.2f}\\t{fbeta_score(y_val, Y[model_name], beta=2):.2f}\\t{geometric_mean_score(y_val, Y[model_name]):.2f}')\n",
    "\n",
    "plt.plot([0,1], [0,1], linestyle='--')\n",
    "plt.legend(title='Area Under the Curve')\n",
    "plt.xlabel('False Positive Rate')\n",
    "plt.ylabel('True Positive Rate')\n",
    "plt.title('Receiver Operating Characteristic')\n",
    "plt.savefig('figures/roc_curve_validation.png', dpi=128)\n",
    "plt.show()"
   ]
  },
  {
   "cell_type": "code",
   "execution_count": 18,
   "metadata": {},
   "outputs": [],
   "source": [
    "def percentage_dist(values):\n",
    "    values = pd.Series(values, name='values')\n",
    "    distribution = values.value_counts(\n",
    "        normalize=True).mul(100).reset_index().rename({'values':'Percentage','index':'Class'}, axis=1)\n",
    "    return distribution"
   ]
  },
  {
   "cell_type": "code",
   "execution_count": 19,
   "metadata": {},
   "outputs": [
    {
     "data": {
      "image/png": "[encoded data removed]",
      "text/plain": [
       "<Figure size 513.625x360 with 1 Axes>"
      ]
     },
     "metadata": {
      "needs_background": "light"
     },
     "output_type": "display_data"
    }
   ],
   "source": [
    "perc = percentage_dist(y_val)\n",
    "perc['Name'] = 'Experimental data'\n",
    "\n",
    "for model_name in classifiers:\n",
    "    y_pred = Y[model_name]\n",
    "    dist = percentage_dist(y_pred)\n",
    "    dist['Name'] = model_name\n",
    "    perc = perc.append(dist)\n",
    "\n",
    "sns.catplot(kind='bar', data=perc, x='Class', y='Percentage', hue='Name')\n",
    "plt.title('Number of active/inactive compounds according to the experimental data and number of classified active/inactive compounds', y=1.05)\n",
    "plt.show()"
   ]
  },
  {
   "cell_type": "code",
   "execution_count": 20,
   "metadata": {},
   "outputs": [],
   "source": [
    "activity = pd.read_csv('activity_data.csv')"
   ]
  },
  {
   "cell_type": "code",
   "execution_count": 21,
   "metadata": {},
   "outputs": [
    {
     "name": "stdout",
     "output_type": "stream",
     "text": [
      "Spearman R\n",
      "LogisticRegression: 0.43\n",
      "RandomForestClassifier: 0.47\n",
      "KNeighborsClassifier: 0.46\n",
      "LinearSVC: 0.43\n",
      "XGBClassifier: 0.46\n",
      "DecisionTreeClassifier: 0.41\n"
     ]
    }
   ],
   "source": [
    "from scipy.stats import spearmanr\n",
    "\n",
    "df = pd.merge(activity[['CID', 'f_inhibition_at_50_uM']], probas, on=['CID'])\n",
    "print('Spearman R')\n",
    "for model_name in classifiers:\n",
    "    print(f'{model_name}: {spearmanr(df[model_name], df[\"f_inhibition_at_50_uM\"])[0]:.2f}')"
   ]
  },
  {
   "cell_type": "code",
   "execution_count": 22,
   "metadata": {},
   "outputs": [],
   "source": [
    "def error_metrics(y_true, y_proba):\n",
    "    import numpy as np\n",
    "    from sklearn.metrics import log_loss\n",
    "    \n",
    "    rmse = np.linalg.norm(y_proba - y_true) / np.sqrt(len(y_true))\n",
    "    logl = log_loss(y_true, y_proba)\n",
    "    return rmse, logl\n",
    "    print('{:.2f}'.format())"
   ]
  },
  {
   "cell_type": "code",
   "execution_count": 23,
   "metadata": {},
   "outputs": [
    {
     "name": "stdout",
     "output_type": "stream",
     "text": [
      "Model               \tRMSE \tlog_loss\n",
      "LogisticRegression  \t0.46\t0.63\n",
      "RandomForestClassifier\t0.42\t0.54\n",
      "KNeighborsClassifier\t0.47\t0.65\n",
      "LinearSVC           \t0.46\t0.62\n",
      "XGBClassifier       \t0.43\t0.54\n",
      "DecisionTreeClassifier\t0.48\t2.05\n"
     ]
    }
   ],
   "source": [
    "print('{:20s}\\t{:5s}\\t{:5s}'.format('Model', 'RMSE', 'log_loss'))\n",
    "for model_name in classifiers:\n",
    "    rmse, logl = error_metrics(y_val, probas[model_name])\n",
    "    print(f'{model_name:20s}\\t{rmse:.2f}\\t{logl:.2f}')"
   ]
  },
  {
   "cell_type": "code",
   "execution_count": 24,
   "metadata": {},
   "outputs": [
    {
     "data": {
      "text/plain": [
       "0    103\n",
       "1     36\n",
       "Name: activity, dtype: int64"
      ]
     },
     "execution_count": 24,
     "metadata": {},
     "output_type": "execute_result"
    }
   ],
   "source": [
    "y_val.value_counts()"
   ]
  },
  {
   "cell_type": "code",
   "execution_count": 25,
   "metadata": {},
   "outputs": [
    {
     "name": "stdout",
     "output_type": "stream",
     "text": [
      "0    81\n",
      "1    58\n",
      "Name: LogisticRegression, dtype: int64\n",
      "Number of missed actives: 11 \n",
      "\n",
      "0    96\n",
      "1    43\n",
      "Name: RandomForestClassifier, dtype: int64\n",
      "Number of missed actives: 15 \n",
      "\n",
      "0    74\n",
      "1    65\n",
      "Name: KNeighborsClassifier, dtype: int64\n",
      "Number of missed actives: 9 \n",
      "\n",
      "0    80\n",
      "1    59\n",
      "Name: LinearSVC, dtype: int64\n",
      "Number of missed actives: 11 \n",
      "\n",
      "0    87\n",
      "1    52\n",
      "Name: XGBClassifier, dtype: int64\n",
      "Number of missed actives: 10 \n",
      "\n",
      "1    74\n",
      "0    65\n",
      "Name: DecisionTreeClassifier, dtype: int64\n",
      "Number of missed actives: 7 \n",
      "\n"
     ]
    }
   ],
   "source": [
    "Y['experimental'] = y_val\n",
    "for model_name in classifiers:\n",
    "    print(Y[model_name].value_counts())\n",
    "    print('Number of missed actives:', Y.query(f'{model_name} == 0 and experimental == 1').count()[model_name], '\\n')"
   ]
  },
  {
   "cell_type": "code",
   "execution_count": null,
   "metadata": {},
   "outputs": [],
   "source": []
  }
 ],
 "metadata": {
  "kernelspec": {
   "display_name": "Python 3",
   "language": "python",
   "name": "python3"
  },
  "language_info": {
   "codemirror_mode": {
    "name": "ipython",
    "version": 3
   },
   "file_extension": ".py",
   "mimetype": "text/x-python",
   "name": "python",
   "nbconvert_exporter": "python",
   "pygments_lexer": "ipython3",
   "version": "3.7.9"
  }
 },
 "nbformat": 4,
 "nbformat_minor": 4
}
