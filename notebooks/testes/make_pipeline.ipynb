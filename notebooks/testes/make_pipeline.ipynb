{
 "cells": [
  {
   "cell_type": "markdown",
   "metadata": {},
   "source": [
    "# Comparação dos resultados sem e com a Pipeline\n",
    "Devem ser iguais"
   ]
  },
  {
   "cell_type": "code",
   "execution_count": 1,
   "metadata": {},
   "outputs": [],
   "source": [
    "import pandas as pd\n",
    "import numpy as np\n",
    "from sklearn import datasets"
   ]
  },
  {
   "cell_type": "code",
   "execution_count": 2,
   "metadata": {},
   "outputs": [],
   "source": [
    "cancer = datasets.load_breast_cancer()\n",
    "X = cancer['data']\n",
    "y = cancer['target']"
   ]
  },
  {
   "cell_type": "code",
   "execution_count": 3,
   "metadata": {},
   "outputs": [],
   "source": [
    "from sklearn.preprocessing import StandardScaler\n",
    "from sklearn.model_selection import train_test_split\n",
    "from imblearn.over_sampling import SMOTE\n",
    "from imblearn.pipeline import make_pipeline\n",
    "from sklearn.ensemble import RandomForestClassifier\n",
    "from sklearn.metrics import accuracy_score"
   ]
  },
  {
   "cell_type": "code",
   "execution_count": 4,
   "metadata": {},
   "outputs": [
    {
     "name": "stdout",
     "output_type": "stream",
     "text": [
      "SMOTE + StandardScaler + RandomForestClassifier : 0.9649122807017544\n",
      "SMOTE + StandardScaler + RandomForestClassifier + make_pipeline : 0.9649122807017544\n"
     ]
    }
   ],
   "source": [
    "X_train, X_test, y_train, y_test = train_test_split(X, y, test_size=0.20, random_state=27)\n",
    "\n",
    "pipe = make_pipeline(SMOTE(random_state=42), \n",
    "                     StandardScaler(), \n",
    "                     RandomForestClassifier(n_estimators=1000, max_depth=10, random_state=13))\n",
    "\n",
    "pipe.fit(X_train, np.array(y_train))\n",
    "\n",
    "y_pred = pipe.predict(X_test)\n",
    "accuracy_1 = accuracy_score(y_test, y_pred)\n",
    "\n",
    "# Apply SMOTE to training data and keep original test data\n",
    "sm = SMOTE(random_state=42)\n",
    "X_train, y_train = sm.fit_sample(X_train, np.array(y_train))\n",
    "\n",
    "# Apply standardization after SMOTE\n",
    "scaler = StandardScaler()\n",
    "X_train = scaler.fit_transform(X_train)\n",
    "X_test = scaler.transform(X_test)\n",
    "\n",
    "clf = RandomForestClassifier(n_estimators=1000, max_depth=10, random_state=13)\n",
    "clf.fit(X_train, np.array(y_train))\n",
    "svc_pred = clf.predict(X_test)\n",
    "accuracy_2 = accuracy_score(y_test, svc_pred)\n",
    "\n",
    "print(f'SMOTE + StandardScaler + RandomForestClassifier : {accuracy_1}')\n",
    "print(f'SMOTE + StandardScaler + RandomForestClassifier + make_pipeline : {accuracy_2}')"
   ]
  },
  {
   "cell_type": "code",
   "execution_count": null,
   "metadata": {},
   "outputs": [],
   "source": []
  }
 ],
 "metadata": {
  "kernelspec": {
   "display_name": "Python 3",
   "language": "python",
   "name": "python3"
  },
  "language_info": {
   "codemirror_mode": {
    "name": "ipython",
    "version": 3
   },
   "file_extension": ".py",
   "mimetype": "text/x-python",
   "name": "python",
   "nbconvert_exporter": "python",
   "pygments_lexer": "ipython3",
   "version": "3.7.9"
  }
 },
 "nbformat": 4,
 "nbformat_minor": 4
}
