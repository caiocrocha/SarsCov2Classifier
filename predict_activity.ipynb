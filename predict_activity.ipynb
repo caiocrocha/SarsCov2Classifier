{
 "cells": [
  {
   "cell_type": "markdown",
   "metadata": {},
   "source": [
    "# Predict activity\n",
    "## A notebook for predicting the activity of a set of compounds\n",
    "The top 3 models (KNN, Random Forest and XGBoost) are used here for classifying a new set of compounds, and show to be relatively good classifiers. The confusion matrices show that KNeighborsClassifier had the highest true postive rate and the highest AUC, which are both important factors in drug discovery. However, none of the three classifiers correlated with the experimental activity values (fluorescence) according to the Spearman correlation values, indicating they had low early recognition (the classifiers couldn't rank the compounds according to their likelihood of being more active than others). \n",
    "## Instructions\n",
    "1. Define the name of the file that contains the compounds. Each molecule must...\n",
    "    1. ...be identified by \"CID\";\n",
    "    2. ...have an activity label (either active or inactive);\n",
    "    3. ...have values for the molecular descriptors defined in [Classifiers and molecular descriptors](#classifiers).\n",
    "    \n",
    "## How it works\n",
    "The models have already been trained and serialized (saved) to a pickle file. They are loaded and receive as input the activity data and values of molecular descriptors for a set of compounds. Finally, the models predict the activity of these compounds based on the data they have been previously trained on. \n",
    "\n",
    "## Table of contents\n",
    "1. [Read data](#read)\n",
    "2. [Classifiers and molecular descriptors](#classifiers)\n",
    "3. [Confusion matrices](#confusion)\n",
    "4. [ROC curves](#roc)    \n",
    "5. [Class distribution](#class)    \n",
    "6. [Spearman correlations](#spearman)    \n",
    "7. [Error metrics](#error)    "
   ]
  },
  {
   "cell_type": "markdown",
   "metadata": {},
   "source": [
    "<a id='read'></a>\n",
    "## Read data"
   ]
  },
  {
   "cell_type": "code",
   "execution_count": 1,
   "metadata": {},
   "outputs": [],
   "source": [
    "#Ler os dados usados para teste"
   ]
  },
  {
   "cell_type": "code",
   "execution_count": 1,
   "metadata": {},
   "outputs": [],
   "source": [
    "# File containing the compounds and their molecular descriptors\n",
    "compounds = 'test_data.csv'\n",
    "activity_label = 'f_activity'"
   ]
  },
  {
   "cell_type": "code",
   "execution_count": 2,
   "metadata": {},
   "outputs": [
    {
     "data": {
      "text/html": [
       "<div>\n",
       "<style scoped>\n",
       "    .dataframe tbody tr th:only-of-type {\n",
       "        vertical-align: middle;\n",
       "    }\n",
       "\n",
       "    .dataframe tbody tr th {\n",
       "        vertical-align: top;\n",
       "    }\n",
       "\n",
       "    .dataframe thead th {\n",
       "        text-align: right;\n",
       "    }\n",
       "</style>\n",
       "<table border=\"1\" class=\"dataframe\">\n",
       "  <thead>\n",
       "    <tr style=\"text-align: right;\">\n",
       "      <th></th>\n",
       "      <th>CID</th>\n",
       "      <th>f_activity</th>\n",
       "      <th>FormalCharge</th>\n",
       "      <th>MolMR</th>\n",
       "      <th>NumRotatableBonds</th>\n",
       "      <th>NumHAcceptors</th>\n",
       "      <th>NumHDonors</th>\n",
       "      <th>TPSA</th>\n",
       "      <th>LabuteASA</th>\n",
       "      <th>MolLogP</th>\n",
       "    </tr>\n",
       "  </thead>\n",
       "  <tbody>\n",
       "    <tr>\n",
       "      <th>0</th>\n",
       "      <td>CHR-SOS-363cfb78-2</td>\n",
       "      <td>0</td>\n",
       "      <td>0</td>\n",
       "      <td>70.5674</td>\n",
       "      <td>2</td>\n",
       "      <td>4</td>\n",
       "      <td>2</td>\n",
       "      <td>90.70</td>\n",
       "      <td>109.676446</td>\n",
       "      <td>2.3007</td>\n",
       "    </tr>\n",
       "    <tr>\n",
       "      <th>1</th>\n",
       "      <td>GIA-UNK-595fac82-2</td>\n",
       "      <td>0</td>\n",
       "      <td>0</td>\n",
       "      <td>70.9082</td>\n",
       "      <td>2</td>\n",
       "      <td>3</td>\n",
       "      <td>1</td>\n",
       "      <td>58.64</td>\n",
       "      <td>112.091394</td>\n",
       "      <td>1.6472</td>\n",
       "    </tr>\n",
       "    <tr>\n",
       "      <th>2</th>\n",
       "      <td>GIA-UNK-595fac82-5</td>\n",
       "      <td>0</td>\n",
       "      <td>0</td>\n",
       "      <td>70.2817</td>\n",
       "      <td>3</td>\n",
       "      <td>3</td>\n",
       "      <td>1</td>\n",
       "      <td>41.57</td>\n",
       "      <td>107.929872</td>\n",
       "      <td>2.0070</td>\n",
       "    </tr>\n",
       "    <tr>\n",
       "      <th>3</th>\n",
       "      <td>CHR-SOS-7098f804-4</td>\n",
       "      <td>0</td>\n",
       "      <td>0</td>\n",
       "      <td>72.5220</td>\n",
       "      <td>2</td>\n",
       "      <td>2</td>\n",
       "      <td>2</td>\n",
       "      <td>49.33</td>\n",
       "      <td>113.965590</td>\n",
       "      <td>3.9513</td>\n",
       "    </tr>\n",
       "    <tr>\n",
       "      <th>4</th>\n",
       "      <td>CHR-SOS-7098f804-7</td>\n",
       "      <td>0</td>\n",
       "      <td>0</td>\n",
       "      <td>67.5120</td>\n",
       "      <td>2</td>\n",
       "      <td>2</td>\n",
       "      <td>2</td>\n",
       "      <td>49.33</td>\n",
       "      <td>103.662324</td>\n",
       "      <td>3.2979</td>\n",
       "    </tr>\n",
       "  </tbody>\n",
       "</table>\n",
       "</div>"
      ],
      "text/plain": [
       "                  CID  f_activity  FormalCharge    MolMR  NumRotatableBonds  \\\n",
       "0  CHR-SOS-363cfb78-2           0             0  70.5674                  2   \n",
       "1  GIA-UNK-595fac82-2           0             0  70.9082                  2   \n",
       "2  GIA-UNK-595fac82-5           0             0  70.2817                  3   \n",
       "3  CHR-SOS-7098f804-4           0             0  72.5220                  2   \n",
       "4  CHR-SOS-7098f804-7           0             0  67.5120                  2   \n",
       "\n",
       "   NumHAcceptors  NumHDonors   TPSA   LabuteASA  MolLogP  \n",
       "0              4           2  90.70  109.676446   2.3007  \n",
       "1              3           1  58.64  112.091394   1.6472  \n",
       "2              3           1  41.57  107.929872   2.0070  \n",
       "3              2           2  49.33  113.965590   3.9513  \n",
       "4              2           2  49.33  103.662324   3.2979  "
      ]
     },
     "execution_count": 2,
     "metadata": {},
     "output_type": "execute_result"
    }
   ],
   "source": [
    "import pandas as pd\n",
    "\n",
    "activity = pd.read_csv('activity_data.csv')\n",
    "test_data = pd.read_csv(compounds)\n",
    "test_data.head()"
   ]
  },
  {
   "cell_type": "markdown",
   "metadata": {},
   "source": [
    "<a id='classifiers'></a>\n",
    "## Classifiers and molecular descriptors"
   ]
  },
  {
   "cell_type": "code",
   "execution_count": 3,
   "metadata": {},
   "outputs": [],
   "source": [
    "descriptors_dict = {}\n",
    "# Top 3 models\n",
    "descriptors_dict['RandomForestClassifier'] = ['NumRotatableBonds', 'NumHDonors', 'TPSA', 'LabuteASA']\n",
    "descriptors_dict['KNeighborsClassifier'] = ['NumHAcceptors', 'TPSA', 'LabuteASA']\n",
    "descriptors_dict['XGBClassifier'] = ['NumRotatableBonds', 'TPSA']"
   ]
  },
  {
   "cell_type": "code",
   "execution_count": 4,
   "metadata": {},
   "outputs": [],
   "source": [
    "def load_pickle(model_name):\n",
    "    import pickle\n",
    "    file = open(f'pickle/{model_name}2.pickle', 'rb')\n",
    "    model_fitted = pickle.load(file)\n",
    "    file.close()\n",
    "    return model_fitted"
   ]
  },
  {
   "cell_type": "markdown",
   "metadata": {},
   "source": [
    "<a id='confusion'></a>\n",
    "## Confusion matrices"
   ]
  },
  {
   "cell_type": "code",
   "execution_count": 5,
   "metadata": {},
   "outputs": [],
   "source": [
    "def print_confusion_matrix(y_test, y_pred):\n",
    "    from sklearn.metrics import confusion_matrix  \n",
    "    conf_matrix = confusion_matrix(y_test, y_pred, normalize='true')\n",
    "    matrix = pd.DataFrame(conf_matrix)\n",
    "    print(matrix.round(2))"
   ]
  },
  {
   "cell_type": "code",
   "execution_count": 6,
   "metadata": {
    "scrolled": true
   },
   "outputs": [
    {
     "name": "stdout",
     "output_type": "stream",
     "text": [
      "\n",
      " RandomForestClassifier\n",
      "      0     1\n",
      "0  0.95  0.05\n",
      "1  0.13  0.87\n",
      "\n",
      " KNeighborsClassifier\n",
      "      0     1\n",
      "0  0.84  0.16\n",
      "1  0.07  0.93\n",
      "\n",
      " XGBClassifier\n",
      "      0     1\n",
      "0  0.85  0.15\n",
      "1  0.33  0.67\n"
     ]
    }
   ],
   "source": [
    "y_test = test_data[activity_label]\n",
    "Y = pd.DataFrame(test_data['CID'])\n",
    "probas = pd.DataFrame(test_data['CID'])\n",
    "\n",
    "for model_name in descriptors_dict.keys():\n",
    "    model_fitted = load_pickle(model_name)\n",
    "    subset = descriptors_dict[model_name]\n",
    "    X_test = test_data[subset]\n",
    "    y_pred = model_fitted.predict(X_test)\n",
    "    Y[model_name] = y_pred\n",
    "    \n",
    "    print('\\n', model_name)\n",
    "    print_confusion_matrix(y_test, y_pred)\n",
    "    \n",
    "    y_proba = model_fitted.predict_proba(X_test)\n",
    "    probas[model_name] = y_proba[:,1]"
   ]
  },
  {
   "cell_type": "code",
   "execution_count": 6,
   "metadata": {},
   "outputs": [
    {
     "name": "stdout",
     "output_type": "stream",
     "text": [
      "\n",
      " RandomForestClassifier\n",
      "      0     1\n",
      "0  0.96  0.04\n",
      "1  0.07  0.93\n",
      "\n",
      " KNeighborsClassifier\n",
      "      0     1\n",
      "0  0.84  0.16\n",
      "1  0.07  0.93\n",
      "\n",
      " XGBClassifier\n",
      "      0     1\n",
      "0  0.85  0.15\n",
      "1  0.33  0.67\n"
     ]
    }
   ],
   "source": [
    "y_test = test_data[activity_label]\n",
    "Y = pd.DataFrame(test_data['CID'])\n",
    "probas = pd.DataFrame(test_data['CID'])\n",
    "\n",
    "for model_name in descriptors_dict.keys():\n",
    "    model_fitted = load_pickle(model_name)\n",
    "    subset = descriptors_dict[model_name]\n",
    "    X_test = test_data[subset]\n",
    "    y_pred = model_fitted.predict(X_test)\n",
    "    Y[model_name] = y_pred\n",
    "    \n",
    "    print('\\n', model_name)\n",
    "    print_confusion_matrix(y_test, y_pred)\n",
    "    \n",
    "    y_proba = model_fitted.predict_proba(X_test)\n",
    "    probas[model_name] = y_proba[:,1]"
   ]
  },
  {
   "cell_type": "markdown",
   "metadata": {},
   "source": [
    "<a id='roc'></a>\n",
    "## ROC curves"
   ]
  },
  {
   "cell_type": "code",
   "execution_count": 8,
   "metadata": {},
   "outputs": [
    {
     "data": {
      "image/png": "[encoded data removed]",
      "text/plain": [
       "<Figure size 432x288 with 1 Axes>"
      ]
     },
     "metadata": {
      "needs_background": "light"
     },
     "output_type": "display_data"
    }
   ],
   "source": [
    "import matplotlib.pyplot as plt\n",
    "%matplotlib inline\n",
    "import seaborn as sns\n",
    "from sklearn.metrics import roc_curve, auc\n",
    "\n",
    "for model_name in descriptors_dict.keys():\n",
    "    y_proba = probas[model_name]\n",
    "    fpr, tpr, _ = roc_curve(y_test, y_proba)\n",
    "    plt.plot(fpr, tpr, label=f'{model_name}: {auc(fpr, tpr):>.3f}')\n",
    "    \n",
    "plt.plot([0,1], [0,1], linestyle='--')\n",
    "plt.legend(title='Area Under the Curve')\n",
    "plt.xlabel('False Positive Rate')\n",
    "plt.ylabel('True Positive Rate')\n",
    "plt.title('Receiver Operating Characteristic')\n",
    "plt.show()"
   ]
  },
  {
   "cell_type": "code",
   "execution_count": 7,
   "metadata": {},
   "outputs": [
    {
     "data": {
      "image/png": "[encoded data removed]",
      "text/plain": [
       "<Figure size 432x288 with 1 Axes>"
      ]
     },
     "metadata": {
      "needs_background": "light"
     },
     "output_type": "display_data"
    }
   ],
   "source": [
    "import matplotlib.pyplot as plt\n",
    "%matplotlib inline\n",
    "import seaborn as sns\n",
    "from sklearn.metrics import roc_curve, auc\n",
    "\n",
    "for model_name in descriptors_dict.keys():\n",
    "    y_proba = probas[model_name]\n",
    "    fpr, tpr, _ = roc_curve(y_test, y_proba)\n",
    "    plt.plot(fpr, tpr, label=f'{model_name}: {auc(fpr, tpr):>.3f}')\n",
    "    \n",
    "plt.plot([0,1], [0,1], linestyle='--')\n",
    "plt.legend(title='Area Under the Curve')\n",
    "plt.xlabel('False Positive Rate')\n",
    "plt.ylabel('True Positive Rate')\n",
    "plt.title('Receiver Operating Characteristic')\n",
    "plt.show()"
   ]
  },
  {
   "cell_type": "markdown",
   "metadata": {},
   "source": [
    "<a id='class'></a>\n",
    "## Class distribution"
   ]
  },
  {
   "cell_type": "code",
   "execution_count": 8,
   "metadata": {},
   "outputs": [],
   "source": [
    "def percentage_dist(values):\n",
    "    values = pd.Series(values, name='values')\n",
    "    distribution = values.value_counts(\n",
    "        normalize=True).mul(100).reset_index().rename({'values':'Percentage','index':'Class'}, axis=1)\n",
    "    return distribution"
   ]
  },
  {
   "cell_type": "code",
   "execution_count": 10,
   "metadata": {
    "scrolled": false
   },
   "outputs": [
    {
     "data": {
      "text/plain": [
       "<seaborn.axisgrid.FacetGrid at 0x7f9d6859bb90>"
      ]
     },
     "execution_count": 10,
     "metadata": {},
     "output_type": "execute_result"
    },
    {
     "data": {
      "image/png": "[encoded data removed]",
      "text/plain": [
       "<Figure size 513.625x360 with 1 Axes>"
      ]
     },
     "metadata": {
      "needs_background": "light"
     },
     "output_type": "display_data"
    }
   ],
   "source": [
    "perc = percentage_dist(test_data[activity_label])\n",
    "perc['Name'] = 'Experimental data'\n",
    "\n",
    "for model_name in descriptors_dict.keys():\n",
    "    y_pred = Y[model_name]\n",
    "    dist = percentage_dist(y_pred)\n",
    "    dist['Name'] = model_name\n",
    "    perc = perc.append(dist)\n",
    "\n",
    "sns.catplot(kind='bar', data=perc, x='Class', y='Percentage', hue='Name')"
   ]
  },
  {
   "cell_type": "code",
   "execution_count": 9,
   "metadata": {},
   "outputs": [
    {
     "data": {
      "text/plain": [
       "<seaborn.axisgrid.FacetGrid at 0x7faef19fe110>"
      ]
     },
     "execution_count": 9,
     "metadata": {},
     "output_type": "execute_result"
    },
    {
     "data": {
      "image/png": "[encoded data removed]",
      "text/plain": [
       "<Figure size 513.625x360 with 1 Axes>"
      ]
     },
     "metadata": {
      "needs_background": "light"
     },
     "output_type": "display_data"
    }
   ],
   "source": [
    "perc = percentage_dist(test_data[activity_label])\n",
    "perc['Name'] = 'Experimental data'\n",
    "\n",
    "for model_name in descriptors_dict.keys():\n",
    "    y_pred = Y[model_name]\n",
    "    dist = percentage_dist(y_pred)\n",
    "    dist['Name'] = model_name\n",
    "    perc = perc.append(dist)\n",
    "\n",
    "sns.catplot(kind='bar', data=perc, x='Class', y='Percentage', hue='Name')"
   ]
  },
  {
   "cell_type": "markdown",
   "metadata": {},
   "source": [
    "<a id='spearman'></a>\n",
    "## Spearman correlations"
   ]
  },
  {
   "cell_type": "code",
   "execution_count": 11,
   "metadata": {
    "scrolled": true
   },
   "outputs": [
    {
     "name": "stdout",
     "output_type": "stream",
     "text": [
      "Spearman R\n",
      "RandomForestClassifier: 0.0000\n",
      "KNeighborsClassifier: 0.0003\n",
      "XGBClassifier: 0.0002\n"
     ]
    }
   ],
   "source": [
    "from scipy.stats import spearmanr\n",
    "\n",
    "df = pd.merge(activity[['CID', 'f_inhibition_at_50_uM']], probas, on=['CID'])\n",
    "print('Spearman R')\n",
    "for model_name in descriptors_dict.keys():\n",
    "    print(f'{model_name}: {spearmanr(df[model_name], df[\"f_inhibition_at_50_uM\"])[1]:.4f}')"
   ]
  },
  {
   "cell_type": "code",
   "execution_count": 10,
   "metadata": {},
   "outputs": [
    {
     "name": "stdout",
     "output_type": "stream",
     "text": [
      "Spearman R\n",
      "RandomForestClassifier: 0.0000\n",
      "KNeighborsClassifier: 0.0003\n",
      "XGBClassifier: 0.0004\n"
     ]
    }
   ],
   "source": [
    "from scipy.stats import spearmanr\n",
    "\n",
    "df = pd.merge(activity[['CID', 'f_inhibition_at_50_uM']], probas, on=['CID'])\n",
    "print('Spearman R')\n",
    "for model_name in descriptors_dict.keys():\n",
    "    print(f'{model_name}: {spearmanr(df[model_name], df[\"f_inhibition_at_50_uM\"])[1]:.4f}')"
   ]
  },
  {
   "cell_type": "markdown",
   "metadata": {},
   "source": [
    "<a id='error'></a>\n",
    "## Error metrics"
   ]
  },
  {
   "cell_type": "code",
   "execution_count": 11,
   "metadata": {},
   "outputs": [],
   "source": [
    "def error_metrics(y_test, y_proba):\n",
    "    import numpy as np\n",
    "    from sklearn.metrics import log_loss\n",
    "    \n",
    "    rmse = np.linalg.norm(y_proba - y_test) / np.sqrt(len(y_test))\n",
    "    logl = log_loss(y_test, y_proba)\n",
    "    return rmse, logl\n",
    "    print('{:.4f}'.format())"
   ]
  },
  {
   "cell_type": "code",
   "execution_count": 13,
   "metadata": {
    "scrolled": true
   },
   "outputs": [
    {
     "name": "stdout",
     "output_type": "stream",
     "text": [
      "Model               \tRMSE \tlog_loss\n",
      "RandomForestClassifier\t0.2750\t0.2603\n",
      "KNeighborsClassifier\t0.3162\t0.2907\n",
      "XGBClassifier       \t0.3580\t0.4075\n"
     ]
    }
   ],
   "source": [
    "print('{:20s}\\t{:5s}\\t{:5s}'.format('Model', 'RMSE', 'log_loss'))\n",
    "for model_name in descriptors_dict.keys():\n",
    "    rmse, logl = error_metrics(y_test, probas[model_name])\n",
    "    print(f'{model_name:20s}\\t{rmse:.4f}\\t{logl:.4f}')"
   ]
  },
  {
   "cell_type": "code",
   "execution_count": 12,
   "metadata": {},
   "outputs": [
    {
     "name": "stdout",
     "output_type": "stream",
     "text": [
      "Model               \tRMSE \tlog_loss\n",
      "RandomForestClassifier\t0.2353\t0.2053\n",
      "KNeighborsClassifier\t0.3162\t0.2907\n",
      "XGBClassifier       \t0.3663\t0.4226\n"
     ]
    }
   ],
   "source": [
    "print('{:20s}\\t{:5s}\\t{:5s}'.format('Model', 'RMSE', 'log_loss'))\n",
    "for model_name in descriptors_dict.keys():\n",
    "    rmse, logl = error_metrics(y_test, probas[model_name])\n",
    "    print(f'{model_name:20s}\\t{rmse:.4f}\\t{logl:.4f}')"
   ]
  },
  {
   "cell_type": "code",
   "execution_count": null,
   "metadata": {},
   "outputs": [],
   "source": []
  }
 ],
 "metadata": {
  "kernelspec": {
   "display_name": "Python 3",
   "language": "python",
   "name": "python3"
  },
  "language_info": {
   "codemirror_mode": {
    "name": "ipython",
    "version": 3
   },
   "file_extension": ".py",
   "mimetype": "text/x-python",
   "name": "python",
   "nbconvert_exporter": "python",
   "pygments_lexer": "ipython3",
   "version": "3.7.9"
  }
 },
 "nbformat": 4,
 "nbformat_minor": 4
}
