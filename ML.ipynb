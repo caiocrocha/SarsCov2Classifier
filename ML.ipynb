{
 "cells": [
  {
   "cell_type": "code",
   "execution_count": 1,
   "metadata": {},
   "outputs": [],
   "source": [
    "import pandas as pd\n",
    "import numpy as np\n",
    "import seaborn as sns\n",
    "import matplotlib.pyplot as plt\n",
    "%matplotlib inline"
   ]
  },
  {
   "cell_type": "markdown",
   "metadata": {},
   "source": [
    "# Read data"
   ]
  },
  {
   "cell_type": "code",
   "execution_count": 2,
   "metadata": {},
   "outputs": [],
   "source": [
    "# Read QuickVina02 results\n",
    "qvina         = pd.read_csv('qvina.csv')\n",
    "qvina.columns = ['CID','pose','qvina']\n",
    "\n",
    "# Read QVina rescored with RF-Score\n",
    "rfscore_qvina         = pd.read_csv('rfscore_qvina.csv')\n",
    "rfscore_qvina.columns = ['CID','pose','rfscore_qvina']"
   ]
  },
  {
   "cell_type": "code",
   "execution_count": 3,
   "metadata": {
    "scrolled": true
   },
   "outputs": [
    {
     "data": {
      "text/html": [
       "<div>\n",
       "<style scoped>\n",
       "    .dataframe tbody tr th:only-of-type {\n",
       "        vertical-align: middle;\n",
       "    }\n",
       "\n",
       "    .dataframe tbody tr th {\n",
       "        vertical-align: top;\n",
       "    }\n",
       "\n",
       "    .dataframe thead th {\n",
       "        text-align: right;\n",
       "    }\n",
       "</style>\n",
       "<table border=\"1\" class=\"dataframe\">\n",
       "  <thead>\n",
       "    <tr style=\"text-align: right;\">\n",
       "      <th></th>\n",
       "      <th>CID</th>\n",
       "      <th>qvina</th>\n",
       "      <th>rfscore_qvina</th>\n",
       "    </tr>\n",
       "  </thead>\n",
       "  <tbody>\n",
       "    <tr>\n",
       "      <th>0</th>\n",
       "      <td>MAR-UNI-c84db004-13</td>\n",
       "      <td>-9.0</td>\n",
       "      <td>6.586498</td>\n",
       "    </tr>\n",
       "    <tr>\n",
       "      <th>1</th>\n",
       "      <td>BAR-COM-4e090d3a-53</td>\n",
       "      <td>-7.5</td>\n",
       "      <td>7.221692</td>\n",
       "    </tr>\n",
       "    <tr>\n",
       "      <th>2</th>\n",
       "      <td>TRY-UNI-714a760b-6</td>\n",
       "      <td>-6.4</td>\n",
       "      <td>6.377253</td>\n",
       "    </tr>\n",
       "    <tr>\n",
       "      <th>3</th>\n",
       "      <td>EDJ-MED-c9f55a56-1</td>\n",
       "      <td>-6.2</td>\n",
       "      <td>5.491030</td>\n",
       "    </tr>\n",
       "    <tr>\n",
       "      <th>4</th>\n",
       "      <td>LON-WEI-0a73fcb8-7</td>\n",
       "      <td>-7.4</td>\n",
       "      <td>6.677942</td>\n",
       "    </tr>\n",
       "  </tbody>\n",
       "</table>\n",
       "</div>"
      ],
      "text/plain": [
       "                   CID  qvina  rfscore_qvina\n",
       "0  MAR-UNI-c84db004-13   -9.0       6.586498\n",
       "1  BAR-COM-4e090d3a-53   -7.5       7.221692\n",
       "2   TRY-UNI-714a760b-6   -6.4       6.377253\n",
       "3   EDJ-MED-c9f55a56-1   -6.2       5.491030\n",
       "4   LON-WEI-0a73fcb8-7   -7.4       6.677942"
      ]
     },
     "execution_count": 3,
     "metadata": {},
     "output_type": "execute_result"
    }
   ],
   "source": [
    "top_qvina  = pd.merge(qvina.query('pose == 1'), rfscore_qvina.query('pose == 1'))\n",
    "top_qvina.drop('pose', axis=1, inplace=True)\n",
    "top_qvina.head()"
   ]
  },
  {
   "cell_type": "code",
   "execution_count": 4,
   "metadata": {},
   "outputs": [],
   "source": [
    "## Sort Qvina rescored with RF-Score\n",
    "#top_rfscore_qvina = rfscore_qvina.sort_values('rfscore_qvina', ascending=False).groupby('CID').head(1)\n",
    "#pd.merge(qvina.query('pose == 1'), rfscore_qvina.query('pose == 1')).append(pd.merge(qvina, rfscore_qvina.sort_values('rfscore_qvina', ascending=False).groupby('CID').head(1), on=['CID','pose']))"
   ]
  },
  {
   "cell_type": "code",
   "execution_count": 5,
   "metadata": {},
   "outputs": [],
   "source": [
    "# Read PLANTS results\n",
    "plants         = pd.read_csv('plants.csv')\n",
    "plants.columns = ['CID','pose','plants']\n",
    "\n",
    "# Read PLANTS rescored with RF-Score\n",
    "rfscore_plants         = pd.read_csv('rfscore_plants.csv', header=None)\n",
    "rfscore_plants.columns = ['rfscore_plants','CID']\n",
    "rfscore_plants         = rfscore_plants[['CID','rfscore_plants']]\n",
    "rfscore_plants[['CID','pose']] = rfscore_plants['CID'].str.split('_', expand=True)\n",
    "rfscore_plants['pose']         = rfscore_plants['pose'].astype('int')"
   ]
  },
  {
   "cell_type": "code",
   "execution_count": 6,
   "metadata": {},
   "outputs": [
    {
     "data": {
      "text/html": [
       "<div>\n",
       "<style scoped>\n",
       "    .dataframe tbody tr th:only-of-type {\n",
       "        vertical-align: middle;\n",
       "    }\n",
       "\n",
       "    .dataframe tbody tr th {\n",
       "        vertical-align: top;\n",
       "    }\n",
       "\n",
       "    .dataframe thead th {\n",
       "        text-align: right;\n",
       "    }\n",
       "</style>\n",
       "<table border=\"1\" class=\"dataframe\">\n",
       "  <thead>\n",
       "    <tr style=\"text-align: right;\">\n",
       "      <th></th>\n",
       "      <th>CID</th>\n",
       "      <th>plants</th>\n",
       "      <th>rfscore_plants</th>\n",
       "    </tr>\n",
       "  </thead>\n",
       "  <tbody>\n",
       "    <tr>\n",
       "      <th>0</th>\n",
       "      <td>EDG-MED-0da5ad92-3</td>\n",
       "      <td>-70.8540</td>\n",
       "      <td>6.885798</td>\n",
       "    </tr>\n",
       "    <tr>\n",
       "      <th>1</th>\n",
       "      <td>DAR-DIA-23aa0b97-19</td>\n",
       "      <td>-79.4982</td>\n",
       "      <td>6.852397</td>\n",
       "    </tr>\n",
       "    <tr>\n",
       "      <th>2</th>\n",
       "      <td>MAT-POS-590ac91e-22</td>\n",
       "      <td>-70.4662</td>\n",
       "      <td>6.217164</td>\n",
       "    </tr>\n",
       "    <tr>\n",
       "      <th>3</th>\n",
       "      <td>LON-WEI-1908424e-3</td>\n",
       "      <td>-90.5268</td>\n",
       "      <td>7.534084</td>\n",
       "    </tr>\n",
       "    <tr>\n",
       "      <th>4</th>\n",
       "      <td>GIA-UNK-30c7cb75-1</td>\n",
       "      <td>-76.6202</td>\n",
       "      <td>6.839672</td>\n",
       "    </tr>\n",
       "  </tbody>\n",
       "</table>\n",
       "</div>"
      ],
      "text/plain": [
       "                   CID   plants  rfscore_plants\n",
       "0   EDG-MED-0da5ad92-3 -70.8540        6.885798\n",
       "1  DAR-DIA-23aa0b97-19 -79.4982        6.852397\n",
       "2  MAT-POS-590ac91e-22 -70.4662        6.217164\n",
       "3   LON-WEI-1908424e-3 -90.5268        7.534084\n",
       "4   GIA-UNK-30c7cb75-1 -76.6202        6.839672"
      ]
     },
     "execution_count": 6,
     "metadata": {},
     "output_type": "execute_result"
    }
   ],
   "source": [
    "top_plants  = pd.merge(plants.query('pose == 1'), rfscore_plants.query('pose == 1'))\n",
    "top_plants.drop('pose', axis=1, inplace=True)\n",
    "top_plants.head()"
   ]
  },
  {
   "cell_type": "code",
   "execution_count": 7,
   "metadata": {},
   "outputs": [],
   "source": [
    "# Sort PLANTS rescored with RF-Score\n",
    "#top_rfscore_plants = rfscore_plants.sort_values('rfscore_plants', ascending=False).groupby('CID').head(1)"
   ]
  },
  {
   "cell_type": "code",
   "execution_count": 8,
   "metadata": {},
   "outputs": [],
   "source": [
    "# Read experimental data\n",
    "exp = pd.read_csv('activity_data.csv')"
   ]
  },
  {
   "cell_type": "code",
   "execution_count": 9,
   "metadata": {},
   "outputs": [
    {
     "data": {
      "text/html": [
       "<div>\n",
       "<style scoped>\n",
       "    .dataframe tbody tr th:only-of-type {\n",
       "        vertical-align: middle;\n",
       "    }\n",
       "\n",
       "    .dataframe tbody tr th {\n",
       "        vertical-align: top;\n",
       "    }\n",
       "\n",
       "    .dataframe thead th {\n",
       "        text-align: right;\n",
       "    }\n",
       "</style>\n",
       "<table border=\"1\" class=\"dataframe\">\n",
       "  <thead>\n",
       "    <tr style=\"text-align: right;\">\n",
       "      <th></th>\n",
       "      <th>SMILES</th>\n",
       "      <th>CID</th>\n",
       "      <th>canonical_CID</th>\n",
       "      <th>r_inhibition_at_20_uM</th>\n",
       "      <th>r_inhibition_at_50_uM</th>\n",
       "      <th>r_avg_IC50</th>\n",
       "      <th>f_inhibition_at_20_uM</th>\n",
       "      <th>f_inhibition_at_50_uM</th>\n",
       "      <th>f_avg_IC50</th>\n",
       "      <th>f_avg_pIC50</th>\n",
       "      <th>relative_solubility_at_20_uM</th>\n",
       "      <th>relative_solubility_at_100_uM</th>\n",
       "      <th>trypsin_IC50</th>\n",
       "      <th>NMR_std_ratio</th>\n",
       "      <th>acrylamide</th>\n",
       "      <th>chloroacetamide</th>\n",
       "      <th>series</th>\n",
       "    </tr>\n",
       "  </thead>\n",
       "  <tbody>\n",
       "    <tr>\n",
       "      <th>0</th>\n",
       "      <td>COC(=O)C(C(=O)Nc1cnccc1C)c1cccc(Cl)c1</td>\n",
       "      <td>MAT-POS-1e5f28a7-1</td>\n",
       "      <td>MAT-POS-1e5f28a7-1</td>\n",
       "      <td>NaN</td>\n",
       "      <td>NaN</td>\n",
       "      <td>17.091397</td>\n",
       "      <td>NaN</td>\n",
       "      <td>NaN</td>\n",
       "      <td>23.712295</td>\n",
       "      <td>4.625026</td>\n",
       "      <td>NaN</td>\n",
       "      <td>NaN</td>\n",
       "      <td>NaN</td>\n",
       "      <td>NaN</td>\n",
       "      <td>False</td>\n",
       "      <td>False</td>\n",
       "      <td>3-aminopyridine-like</td>\n",
       "    </tr>\n",
       "    <tr>\n",
       "      <th>1</th>\n",
       "      <td>OCCn1c(CSc2nc3ccccc3o2)nc2ccc(Cl)cc21</td>\n",
       "      <td>MAT-POS-e10a589d-1</td>\n",
       "      <td>MAT-POS-e10a589d-1</td>\n",
       "      <td>NaN</td>\n",
       "      <td>NaN</td>\n",
       "      <td>99.000000</td>\n",
       "      <td>NaN</td>\n",
       "      <td>NaN</td>\n",
       "      <td>0.326703</td>\n",
       "      <td>6.485847</td>\n",
       "      <td>NaN</td>\n",
       "      <td>NaN</td>\n",
       "      <td>NaN</td>\n",
       "      <td>NaN</td>\n",
       "      <td>False</td>\n",
       "      <td>False</td>\n",
       "      <td>NaN</td>\n",
       "    </tr>\n",
       "    <tr>\n",
       "      <th>2</th>\n",
       "      <td>N#Cc1ncn(CC(=O)Nc2ccc(Br)cc2Cl)n1</td>\n",
       "      <td>MAT-POS-e10a589d-4</td>\n",
       "      <td>MAT-POS-e10a589d-4</td>\n",
       "      <td>NaN</td>\n",
       "      <td>NaN</td>\n",
       "      <td>NaN</td>\n",
       "      <td>NaN</td>\n",
       "      <td>NaN</td>\n",
       "      <td>15.730897</td>\n",
       "      <td>4.803247</td>\n",
       "      <td>NaN</td>\n",
       "      <td>NaN</td>\n",
       "      <td>NaN</td>\n",
       "      <td>NaN</td>\n",
       "      <td>False</td>\n",
       "      <td>False</td>\n",
       "      <td>3-aminopyridine-like</td>\n",
       "    </tr>\n",
       "    <tr>\n",
       "      <th>3</th>\n",
       "      <td>Cn1nc(-c2ccc(C(F)(F)F)cc2)nc2c(=O)n(C)c(=O)nc1-2</td>\n",
       "      <td>MAT-POS-1e0c1c67-1</td>\n",
       "      <td>MAT-POS-1e0c1c67-1</td>\n",
       "      <td>NaN</td>\n",
       "      <td>NaN</td>\n",
       "      <td>99.000000</td>\n",
       "      <td>NaN</td>\n",
       "      <td>NaN</td>\n",
       "      <td>2.400602</td>\n",
       "      <td>5.619680</td>\n",
       "      <td>NaN</td>\n",
       "      <td>NaN</td>\n",
       "      <td>NaN</td>\n",
       "      <td>NaN</td>\n",
       "      <td>False</td>\n",
       "      <td>False</td>\n",
       "      <td>NaN</td>\n",
       "    </tr>\n",
       "    <tr>\n",
       "      <th>4</th>\n",
       "      <td>Cc1cc2c(cc1C)C(C(=O)N1CCCCC1c1cn[nH]c1)CO2</td>\n",
       "      <td>MAT-POS-6da3605a-1</td>\n",
       "      <td>MAT-POS-6da3605a-1</td>\n",
       "      <td>NaN</td>\n",
       "      <td>NaN</td>\n",
       "      <td>99.000000</td>\n",
       "      <td>NaN</td>\n",
       "      <td>NaN</td>\n",
       "      <td>99.500000</td>\n",
       "      <td>NaN</td>\n",
       "      <td>NaN</td>\n",
       "      <td>NaN</td>\n",
       "      <td>NaN</td>\n",
       "      <td>NaN</td>\n",
       "      <td>False</td>\n",
       "      <td>False</td>\n",
       "      <td>NaN</td>\n",
       "    </tr>\n",
       "  </tbody>\n",
       "</table>\n",
       "</div>"
      ],
      "text/plain": [
       "                                             SMILES                 CID  \\\n",
       "0             COC(=O)C(C(=O)Nc1cnccc1C)c1cccc(Cl)c1  MAT-POS-1e5f28a7-1   \n",
       "1             OCCn1c(CSc2nc3ccccc3o2)nc2ccc(Cl)cc21  MAT-POS-e10a589d-1   \n",
       "2                 N#Cc1ncn(CC(=O)Nc2ccc(Br)cc2Cl)n1  MAT-POS-e10a589d-4   \n",
       "3  Cn1nc(-c2ccc(C(F)(F)F)cc2)nc2c(=O)n(C)c(=O)nc1-2  MAT-POS-1e0c1c67-1   \n",
       "4        Cc1cc2c(cc1C)C(C(=O)N1CCCCC1c1cn[nH]c1)CO2  MAT-POS-6da3605a-1   \n",
       "\n",
       "        canonical_CID  r_inhibition_at_20_uM  r_inhibition_at_50_uM  \\\n",
       "0  MAT-POS-1e5f28a7-1                    NaN                    NaN   \n",
       "1  MAT-POS-e10a589d-1                    NaN                    NaN   \n",
       "2  MAT-POS-e10a589d-4                    NaN                    NaN   \n",
       "3  MAT-POS-1e0c1c67-1                    NaN                    NaN   \n",
       "4  MAT-POS-6da3605a-1                    NaN                    NaN   \n",
       "\n",
       "   r_avg_IC50  f_inhibition_at_20_uM  f_inhibition_at_50_uM  f_avg_IC50  \\\n",
       "0   17.091397                    NaN                    NaN   23.712295   \n",
       "1   99.000000                    NaN                    NaN    0.326703   \n",
       "2         NaN                    NaN                    NaN   15.730897   \n",
       "3   99.000000                    NaN                    NaN    2.400602   \n",
       "4   99.000000                    NaN                    NaN   99.500000   \n",
       "\n",
       "   f_avg_pIC50  relative_solubility_at_20_uM  relative_solubility_at_100_uM  \\\n",
       "0     4.625026                           NaN                            NaN   \n",
       "1     6.485847                           NaN                            NaN   \n",
       "2     4.803247                           NaN                            NaN   \n",
       "3     5.619680                           NaN                            NaN   \n",
       "4          NaN                           NaN                            NaN   \n",
       "\n",
       "   trypsin_IC50  NMR_std_ratio  acrylamide  chloroacetamide  \\\n",
       "0           NaN            NaN       False            False   \n",
       "1           NaN            NaN       False            False   \n",
       "2           NaN            NaN       False            False   \n",
       "3           NaN            NaN       False            False   \n",
       "4           NaN            NaN       False            False   \n",
       "\n",
       "                 series  \n",
       "0  3-aminopyridine-like  \n",
       "1                   NaN  \n",
       "2  3-aminopyridine-like  \n",
       "3                   NaN  \n",
       "4                   NaN  "
      ]
     },
     "execution_count": 9,
     "metadata": {},
     "output_type": "execute_result"
    }
   ],
   "source": [
    "exp.head()"
   ]
  },
  {
   "cell_type": "code",
   "execution_count": 10,
   "metadata": {},
   "outputs": [],
   "source": [
    "tmp  = pd.merge(top_qvina, top_plants)\n",
    "data = pd.merge(tmp, exp)"
   ]
  },
  {
   "cell_type": "code",
   "execution_count": 11,
   "metadata": {},
   "outputs": [],
   "source": [
    "# Normalize scores\n",
    "data['plants'] /= 10\n",
    "data[['rfscore_qvina','rfscore_plants']] *= -1"
   ]
  },
  {
   "cell_type": "code",
   "execution_count": 12,
   "metadata": {},
   "outputs": [],
   "source": [
    "import pingouin as pg"
   ]
  },
  {
   "cell_type": "code",
   "execution_count": 13,
   "metadata": {
    "scrolled": false
   },
   "outputs": [
    {
     "name": "stdout",
     "output_type": "stream",
     "text": [
      "qvina: 0.0323\n",
      "rfscore_qvina: 0.0115\n",
      "plants: 0.0859\n",
      "rfscore_plants: 0.0667\n"
     ]
    }
   ],
   "source": [
    "for SF in ['qvina','rfscore_qvina','plants','rfscore_plants']:\n",
    "    df = data[(data['r_avg_IC50'] > 0) & (data['r_avg_IC50'] < 10) & (data[SF] < 0)]\n",
    "    print(f'{SF}: {pg.corr(df[SF], df[\"r_avg_IC50\"], method=\"shepherd\")[\"r2\"].item():.4f}')"
   ]
  },
  {
   "cell_type": "code",
   "execution_count": 14,
   "metadata": {
    "scrolled": true
   },
   "outputs": [
    {
     "name": "stdout",
     "output_type": "stream",
     "text": [
      "qvina: 0.0339\n",
      "rfscore_qvina: 0.0315\n",
      "plants: 0.0048\n",
      "rfscore_plants: 0.0340\n"
     ]
    }
   ],
   "source": [
    "# Sem remover outliers\n",
    "for SF in ['qvina','rfscore_qvina','plants','rfscore_plants']:\n",
    "    print(f'{SF}: {pg.corr(data[SF], data[\"r_avg_IC50\"], method=\"shepherd\")[\"r2\"].item():.4f}')"
   ]
  },
  {
   "cell_type": "code",
   "execution_count": null,
   "metadata": {},
   "outputs": [],
   "source": []
  },
  {
   "cell_type": "code",
   "execution_count": null,
   "metadata": {},
   "outputs": [],
   "source": []
  },
  {
   "cell_type": "code",
   "execution_count": 7,
   "metadata": {},
   "outputs": [],
   "source": [
    "top = data.query('pose == 1')"
   ]
  },
  {
   "cell_type": "code",
   "execution_count": 8,
   "metadata": {
    "scrolled": true
   },
   "outputs": [],
   "source": [
    "descriptors = pd.read_csv('descriptors.csv')"
   ]
  },
  {
   "cell_type": "code",
   "execution_count": 11,
   "metadata": {},
   "outputs": [],
   "source": [
    "descriptors.drop('Reference', axis=1, inplace=True)"
   ]
  },
  {
   "cell_type": "code",
   "execution_count": 16,
   "metadata": {},
   "outputs": [
    {
     "data": {
      "text/html": [
       "<div>\n",
       "<style scoped>\n",
       "    .dataframe tbody tr th:only-of-type {\n",
       "        vertical-align: middle;\n",
       "    }\n",
       "\n",
       "    .dataframe tbody tr th {\n",
       "        vertical-align: top;\n",
       "    }\n",
       "\n",
       "    .dataframe thead th {\n",
       "        text-align: right;\n",
       "    }\n",
       "</style>\n",
       "<table border=\"1\" class=\"dataframe\">\n",
       "  <thead>\n",
       "    <tr style=\"text-align: right;\">\n",
       "      <th></th>\n",
       "      <th>PUBCHEM_SID</th>\n",
       "      <th>PUBCHEM_ACTIVITY_OUTCOME</th>\n",
       "      <th>Inhibition</th>\n",
       "      <th>pose</th>\n",
       "      <th>vina_score</th>\n",
       "      <th>smina_score</th>\n",
       "    </tr>\n",
       "  </thead>\n",
       "  <tbody>\n",
       "    <tr>\n",
       "      <th>2010</th>\n",
       "      <td>842353</td>\n",
       "      <td>Active</td>\n",
       "      <td>21.34</td>\n",
       "      <td>1</td>\n",
       "      <td>-6.2</td>\n",
       "      <td>-6.54804</td>\n",
       "    </tr>\n",
       "    <tr>\n",
       "      <th>2310</th>\n",
       "      <td>842393</td>\n",
       "      <td>Active</td>\n",
       "      <td>12.30</td>\n",
       "      <td>1</td>\n",
       "      <td>-6.8</td>\n",
       "      <td>-6.90986</td>\n",
       "    </tr>\n",
       "    <tr>\n",
       "      <th>8370</th>\n",
       "      <td>843085</td>\n",
       "      <td>Active</td>\n",
       "      <td>57.07</td>\n",
       "      <td>1</td>\n",
       "      <td>-5.8</td>\n",
       "      <td>-6.08944</td>\n",
       "    </tr>\n",
       "    <tr>\n",
       "      <th>9450</th>\n",
       "      <td>843208</td>\n",
       "      <td>Active</td>\n",
       "      <td>25.40</td>\n",
       "      <td>1</td>\n",
       "      <td>-6.6</td>\n",
       "      <td>-6.58671</td>\n",
       "    </tr>\n",
       "    <tr>\n",
       "      <th>26948</th>\n",
       "      <td>845167</td>\n",
       "      <td>Active</td>\n",
       "      <td>16.79</td>\n",
       "      <td>1</td>\n",
       "      <td>-6.1</td>\n",
       "      <td>-6.15173</td>\n",
       "    </tr>\n",
       "    <tr>\n",
       "      <th>...</th>\n",
       "      <td>...</td>\n",
       "      <td>...</td>\n",
       "      <td>...</td>\n",
       "      <td>...</td>\n",
       "      <td>...</td>\n",
       "      <td>...</td>\n",
       "    </tr>\n",
       "    <tr>\n",
       "      <th>2707266</th>\n",
       "      <td>50086403</td>\n",
       "      <td>Active</td>\n",
       "      <td>13.62</td>\n",
       "      <td>1</td>\n",
       "      <td>-6.5</td>\n",
       "      <td>-6.67264</td>\n",
       "    </tr>\n",
       "    <tr>\n",
       "      <th>2708476</th>\n",
       "      <td>50086550</td>\n",
       "      <td>Active</td>\n",
       "      <td>12.37</td>\n",
       "      <td>1</td>\n",
       "      <td>-6.0</td>\n",
       "      <td>-6.12802</td>\n",
       "    </tr>\n",
       "    <tr>\n",
       "      <th>2714964</th>\n",
       "      <td>51086478</td>\n",
       "      <td>Active</td>\n",
       "      <td>12.87</td>\n",
       "      <td>1</td>\n",
       "      <td>-7.1</td>\n",
       "      <td>-7.23337</td>\n",
       "    </tr>\n",
       "    <tr>\n",
       "      <th>2721052</th>\n",
       "      <td>51090130</td>\n",
       "      <td>Active</td>\n",
       "      <td>12.59</td>\n",
       "      <td>1</td>\n",
       "      <td>-6.3</td>\n",
       "      <td>-6.32793</td>\n",
       "    </tr>\n",
       "    <tr>\n",
       "      <th>2721152</th>\n",
       "      <td>51090162</td>\n",
       "      <td>Active</td>\n",
       "      <td>14.79</td>\n",
       "      <td>1</td>\n",
       "      <td>-7.3</td>\n",
       "      <td>-7.51249</td>\n",
       "    </tr>\n",
       "  </tbody>\n",
       "</table>\n",
       "<p>385 rows × 6 columns</p>\n",
       "</div>"
      ],
      "text/plain": [
       "         PUBCHEM_SID PUBCHEM_ACTIVITY_OUTCOME  Inhibition  pose  vina_score  \\\n",
       "2010          842353                   Active       21.34     1        -6.2   \n",
       "2310          842393                   Active       12.30     1        -6.8   \n",
       "8370          843085                   Active       57.07     1        -5.8   \n",
       "9450          843208                   Active       25.40     1        -6.6   \n",
       "26948         845167                   Active       16.79     1        -6.1   \n",
       "...              ...                      ...         ...   ...         ...   \n",
       "2707266     50086403                   Active       13.62     1        -6.5   \n",
       "2708476     50086550                   Active       12.37     1        -6.0   \n",
       "2714964     51086478                   Active       12.87     1        -7.1   \n",
       "2721052     51090130                   Active       12.59     1        -6.3   \n",
       "2721152     51090162                   Active       14.79     1        -7.3   \n",
       "\n",
       "         smina_score  \n",
       "2010        -6.54804  \n",
       "2310        -6.90986  \n",
       "8370        -6.08944  \n",
       "9450        -6.58671  \n",
       "26948       -6.15173  \n",
       "...              ...  \n",
       "2707266     -6.67264  \n",
       "2708476     -6.12802  \n",
       "2714964     -7.23337  \n",
       "2721052     -6.32793  \n",
       "2721152     -7.51249  \n",
       "\n",
       "[385 rows x 6 columns]"
      ]
     },
     "execution_count": 16,
     "metadata": {},
     "output_type": "execute_result"
    }
   ],
   "source": [
    "top.query('PUBCHEM_ACTIVITY_OUTCOME == \"Active\"')"
   ]
  },
  {
   "cell_type": "code",
   "execution_count": 17,
   "metadata": {},
   "outputs": [
    {
     "data": {
      "text/html": [
       "<div>\n",
       "<style scoped>\n",
       "    .dataframe tbody tr th:only-of-type {\n",
       "        vertical-align: middle;\n",
       "    }\n",
       "\n",
       "    .dataframe tbody tr th {\n",
       "        vertical-align: top;\n",
       "    }\n",
       "\n",
       "    .dataframe thead th {\n",
       "        text-align: right;\n",
       "    }\n",
       "</style>\n",
       "<table border=\"1\" class=\"dataframe\">\n",
       "  <thead>\n",
       "    <tr style=\"text-align: right;\">\n",
       "      <th></th>\n",
       "      <th>CID</th>\n",
       "      <th>r_inhibition_at_50_uM</th>\n",
       "      <th>f_inhibition_at_50_uM</th>\n",
       "      <th>Tanimoto</th>\n",
       "      <th>VABC Volume Descriptor</th>\n",
       "      <th>Rotatable Bonds Count</th>\n",
       "      <th>Topological Polar Surface Area</th>\n",
       "      <th>Molecular Weight</th>\n",
       "      <th>XLogP</th>\n",
       "    </tr>\n",
       "  </thead>\n",
       "  <tbody>\n",
       "    <tr>\n",
       "      <th>0</th>\n",
       "      <td>MAT-POS-1e5f28a7-1</td>\n",
       "      <td>NaN</td>\n",
       "      <td>NaN</td>\n",
       "      <td>0.367647</td>\n",
       "      <td>281.26289399511734</td>\n",
       "      <td>8</td>\n",
       "      <td>68.29</td>\n",
       "      <td>318.077120</td>\n",
       "      <td>3.070</td>\n",
       "    </tr>\n",
       "    <tr>\n",
       "      <th>1</th>\n",
       "      <td>MAT-POS-e10a589d-1</td>\n",
       "      <td>NaN</td>\n",
       "      <td>NaN</td>\n",
       "      <td>0.322581</td>\n",
       "      <td>272.7615187845899</td>\n",
       "      <td>7</td>\n",
       "      <td>89.38</td>\n",
       "      <td>359.049525</td>\n",
       "      <td>2.926</td>\n",
       "    </tr>\n",
       "    <tr>\n",
       "      <th>2</th>\n",
       "      <td>MAT-POS-e10a589d-4</td>\n",
       "      <td>NaN</td>\n",
       "      <td>NaN</td>\n",
       "      <td>0.333333</td>\n",
       "      <td>229.47641706672832</td>\n",
       "      <td>5</td>\n",
       "      <td>83.60</td>\n",
       "      <td>338.952250</td>\n",
       "      <td>1.945</td>\n",
       "    </tr>\n",
       "    <tr>\n",
       "      <th>3</th>\n",
       "      <td>MAT-POS-1e0c1c67-1</td>\n",
       "      <td>NaN</td>\n",
       "      <td>NaN</td>\n",
       "      <td>0.333333</td>\n",
       "      <td>272.4061287470087</td>\n",
       "      <td>7</td>\n",
       "      <td>82.67</td>\n",
       "      <td>337.078659</td>\n",
       "      <td>4.085</td>\n",
       "    </tr>\n",
       "    <tr>\n",
       "      <th>4</th>\n",
       "      <td>MAT-POS-6da3605a-1</td>\n",
       "      <td>NaN</td>\n",
       "      <td>NaN</td>\n",
       "      <td>0.315789</td>\n",
       "      <td>300.70631360989046</td>\n",
       "      <td>4</td>\n",
       "      <td>58.22</td>\n",
       "      <td>325.179027</td>\n",
       "      <td>3.153</td>\n",
       "    </tr>\n",
       "    <tr>\n",
       "      <th>...</th>\n",
       "      <td>...</td>\n",
       "      <td>...</td>\n",
       "      <td>...</td>\n",
       "      <td>...</td>\n",
       "      <td>...</td>\n",
       "      <td>...</td>\n",
       "      <td>...</td>\n",
       "      <td>...</td>\n",
       "      <td>...</td>\n",
       "    </tr>\n",
       "    <tr>\n",
       "      <th>999</th>\n",
       "      <td>DAR-DIA-842b4336-4</td>\n",
       "      <td>35.740000</td>\n",
       "      <td>23.748390</td>\n",
       "      <td>0.408163</td>\n",
       "      <td>194.68523450616138</td>\n",
       "      <td>3</td>\n",
       "      <td>82.26</td>\n",
       "      <td>253.007661</td>\n",
       "      <td>0.906</td>\n",
       "    </tr>\n",
       "    <tr>\n",
       "      <th>1000</th>\n",
       "      <td>DAR-DIA-842b4336-7</td>\n",
       "      <td>8.515000</td>\n",
       "      <td>8.855559</td>\n",
       "      <td>0.448980</td>\n",
       "      <td>180.75212958685586</td>\n",
       "      <td>3</td>\n",
       "      <td>80.05</td>\n",
       "      <td>218.080376</td>\n",
       "      <td>0.102</td>\n",
       "    </tr>\n",
       "    <tr>\n",
       "      <th>1001</th>\n",
       "      <td>DAR-DIA-842b4336-13</td>\n",
       "      <td>NaN</td>\n",
       "      <td>11.500410</td>\n",
       "      <td>0.420000</td>\n",
       "      <td>200.9844589238615</td>\n",
       "      <td>4</td>\n",
       "      <td>70.23</td>\n",
       "      <td>252.012412</td>\n",
       "      <td>0.862</td>\n",
       "    </tr>\n",
       "    <tr>\n",
       "      <th>1002</th>\n",
       "      <td>DAR-DIA-842b4336-16</td>\n",
       "      <td>0.000000</td>\n",
       "      <td>-9.906875</td>\n",
       "      <td>0.440000</td>\n",
       "      <td>187.05135400455592</td>\n",
       "      <td>4</td>\n",
       "      <td>68.02</td>\n",
       "      <td>217.085127</td>\n",
       "      <td>-0.371</td>\n",
       "    </tr>\n",
       "    <tr>\n",
       "      <th>1003</th>\n",
       "      <td>DAR-DIA-842b4336-18</td>\n",
       "      <td>7.423525</td>\n",
       "      <td>8.280693</td>\n",
       "      <td>0.344262</td>\n",
       "      <td>222.76518783759494</td>\n",
       "      <td>4</td>\n",
       "      <td>86.02</td>\n",
       "      <td>271.077933</td>\n",
       "      <td>2.153</td>\n",
       "    </tr>\n",
       "  </tbody>\n",
       "</table>\n",
       "<p>1004 rows × 9 columns</p>\n",
       "</div>"
      ],
      "text/plain": [
       "                      CID  r_inhibition_at_50_uM  f_inhibition_at_50_uM  \\\n",
       "0      MAT-POS-1e5f28a7-1                    NaN                    NaN   \n",
       "1      MAT-POS-e10a589d-1                    NaN                    NaN   \n",
       "2      MAT-POS-e10a589d-4                    NaN                    NaN   \n",
       "3      MAT-POS-1e0c1c67-1                    NaN                    NaN   \n",
       "4      MAT-POS-6da3605a-1                    NaN                    NaN   \n",
       "...                   ...                    ...                    ...   \n",
       "999    DAR-DIA-842b4336-4              35.740000              23.748390   \n",
       "1000   DAR-DIA-842b4336-7               8.515000               8.855559   \n",
       "1001  DAR-DIA-842b4336-13                    NaN              11.500410   \n",
       "1002  DAR-DIA-842b4336-16               0.000000              -9.906875   \n",
       "1003  DAR-DIA-842b4336-18               7.423525               8.280693   \n",
       "\n",
       "      Tanimoto VABC Volume Descriptor  Rotatable Bonds Count  \\\n",
       "0     0.367647     281.26289399511734                      8   \n",
       "1     0.322581      272.7615187845899                      7   \n",
       "2     0.333333     229.47641706672832                      5   \n",
       "3     0.333333      272.4061287470087                      7   \n",
       "4     0.315789     300.70631360989046                      4   \n",
       "...        ...                    ...                    ...   \n",
       "999   0.408163     194.68523450616138                      3   \n",
       "1000  0.448980     180.75212958685586                      3   \n",
       "1001  0.420000      200.9844589238615                      4   \n",
       "1002  0.440000     187.05135400455592                      4   \n",
       "1003  0.344262     222.76518783759494                      4   \n",
       "\n",
       "      Topological Polar Surface Area  Molecular Weight  XLogP  \n",
       "0                              68.29        318.077120  3.070  \n",
       "1                              89.38        359.049525  2.926  \n",
       "2                              83.60        338.952250  1.945  \n",
       "3                              82.67        337.078659  4.085  \n",
       "4                              58.22        325.179027  3.153  \n",
       "...                              ...               ...    ...  \n",
       "999                            82.26        253.007661  0.906  \n",
       "1000                           80.05        218.080376  0.102  \n",
       "1001                           70.23        252.012412  0.862  \n",
       "1002                           68.02        217.085127 -0.371  \n",
       "1003                           86.02        271.077933  2.153  \n",
       "\n",
       "[1004 rows x 9 columns]"
      ]
     },
     "execution_count": 17,
     "metadata": {},
     "output_type": "execute_result"
    }
   ],
   "source": [
    "descriptors"
   ]
  },
  {
   "cell_type": "markdown",
   "metadata": {},
   "source": [
    "# Split train and test variables"
   ]
  },
  {
   "cell_type": "code",
   "execution_count": 8,
   "metadata": {},
   "outputs": [],
   "source": [
    "from sklearn.model_selection import train_test_split \n",
    "from sklearn import metrics"
   ]
  },
  {
   "cell_type": "code",
   "execution_count": 9,
   "metadata": {},
   "outputs": [],
   "source": [
    "X = top[['vina_score','smina_score']].values\n",
    "y = pd.Categorical(top['PUBCHEM_ACTIVITY_OUTCOME']).codes # 1 para inativo, 0 para ativo"
   ]
  },
  {
   "cell_type": "code",
   "execution_count": 10,
   "metadata": {},
   "outputs": [],
   "source": [
    "X_train, X_test, y_train, y_test = train_test_split(X, y, test_size=0.25, random_state=27)"
   ]
  },
  {
   "cell_type": "markdown",
   "metadata": {},
   "source": [
    "# Dummy classifier"
   ]
  },
  {
   "cell_type": "code",
   "execution_count": 11,
   "metadata": {},
   "outputs": [],
   "source": [
    "from sklearn.dummy import DummyClassifier"
   ]
  },
  {
   "cell_type": "code",
   "execution_count": 12,
   "metadata": {},
   "outputs": [],
   "source": [
    "dummy = DummyClassifier(strategy='most_frequent').fit(X_train, y_train)\n",
    "dummy_pred = dummy.predict(X_test)"
   ]
  },
  {
   "cell_type": "code",
   "execution_count": 13,
   "metadata": {},
   "outputs": [
    {
     "name": "stdout",
     "output_type": "stream",
     "text": [
      "Unique predicted labels:  [1]\n",
      "Test score:  0.9985315280918676\n"
     ]
    }
   ],
   "source": [
    "# checking unique labels\n",
    "print('Unique predicted labels: ', (np.unique(dummy_pred)))\n",
    "\n",
    "# checking accuracy\n",
    "print('Test score: ', metrics.accuracy_score(y_test, dummy_pred))"
   ]
  },
  {
   "cell_type": "code",
   "execution_count": 14,
   "metadata": {},
   "outputs": [],
   "source": [
    "def print_metrics(y_test, y_pred):\n",
    "    print(f'accuracy_score: {metrics.accuracy_score(y_test, y_pred)}')\n",
    "    print(f'f1_score: {metrics.f1_score(y_test, y_pred)}')\n",
    "    print(f'recall_score: {metrics.recall_score(y_test, y_pred)}')"
   ]
  },
  {
   "cell_type": "markdown",
   "metadata": {},
   "source": [
    "# Logistic regression"
   ]
  },
  {
   "cell_type": "code",
   "execution_count": 15,
   "metadata": {},
   "outputs": [],
   "source": [
    "from sklearn.linear_model import LogisticRegression"
   ]
  },
  {
   "cell_type": "code",
   "execution_count": 16,
   "metadata": {},
   "outputs": [],
   "source": [
    "lr = LogisticRegression(solver='liblinear').fit(X_train, y_train)"
   ]
  },
  {
   "cell_type": "code",
   "execution_count": 17,
   "metadata": {},
   "outputs": [],
   "source": [
    "lr_pred = lr.predict(X_test)"
   ]
  },
  {
   "cell_type": "code",
   "execution_count": 18,
   "metadata": {},
   "outputs": [
    {
     "data": {
      "text/plain": [
       "1    68098\n",
       "Name: 0, dtype: int64"
      ]
     },
     "execution_count": 18,
     "metadata": {},
     "output_type": "execute_result"
    }
   ],
   "source": [
    "predictions = pd.DataFrame(lr_pred)\n",
    "predictions[0].value_counts()"
   ]
  },
  {
   "cell_type": "code",
   "execution_count": 19,
   "metadata": {},
   "outputs": [
    {
     "name": "stdout",
     "output_type": "stream",
     "text": [
      "accuracy_score: 0.9985315280918676\n",
      "f1_score: 0.9992652245473783\n",
      "recall_score: 1.0\n"
     ]
    }
   ],
   "source": [
    "print_metrics(y_test, lr_pred)"
   ]
  },
  {
   "cell_type": "markdown",
   "metadata": {},
   "source": [
    "# Random forest"
   ]
  },
  {
   "cell_type": "code",
   "execution_count": 20,
   "metadata": {},
   "outputs": [],
   "source": [
    "from sklearn.ensemble import RandomForestClassifier"
   ]
  },
  {
   "cell_type": "code",
   "execution_count": 21,
   "metadata": {},
   "outputs": [],
   "source": [
    "rfc = RandomForestClassifier(n_estimators=10).fit(X_train, y_train)"
   ]
  },
  {
   "cell_type": "code",
   "execution_count": 22,
   "metadata": {},
   "outputs": [],
   "source": [
    "rfc_pred = rfc.predict(X_test)"
   ]
  },
  {
   "cell_type": "code",
   "execution_count": 23,
   "metadata": {},
   "outputs": [
    {
     "name": "stdout",
     "output_type": "stream",
     "text": [
      "accuracy_score: 0.9976210755088255\n",
      "f1_score: 0.9988091212490995\n",
      "recall_score: 0.9990882084767199\n"
     ]
    }
   ],
   "source": [
    "print_metrics(y_test, rfc_pred)"
   ]
  },
  {
   "cell_type": "code",
   "execution_count": 24,
   "metadata": {},
   "outputs": [],
   "source": [
    "def predict(resampled):\n",
    "    y_train = resampled['PUBCHEM_ACTIVITY_OUTCOME']\n",
    "    X_train = resampled.drop('PUBCHEM_ACTIVITY_OUTCOME', axis=1)\n",
    "    \n",
    "    resampled = LogisticRegression(solver='liblinear').fit(X_train, y_train)\n",
    "    resampled_pred = resampled.predict(X_test)\n",
    "    \n",
    "    return resampled_pred"
   ]
  },
  {
   "cell_type": "markdown",
   "metadata": {},
   "source": [
    "# Oversample minority class"
   ]
  },
  {
   "cell_type": "code",
   "execution_count": 25,
   "metadata": {},
   "outputs": [],
   "source": [
    "from sklearn.utils import resample"
   ]
  },
  {
   "cell_type": "code",
   "execution_count": 26,
   "metadata": {},
   "outputs": [],
   "source": [
    "X = pd.concat([pd.DataFrame(X_train, columns=['vina_score','smina_score']), pd.Series(y_train, name='PUBCHEM_ACTIVITY_OUTCOME')], axis=1)"
   ]
  },
  {
   "cell_type": "code",
   "execution_count": 27,
   "metadata": {},
   "outputs": [],
   "source": [
    "inactive = X.query('PUBCHEM_ACTIVITY_OUTCOME == 1')\n",
    "active = X.query('PUBCHEM_ACTIVITY_OUTCOME == 0')"
   ]
  },
  {
   "cell_type": "code",
   "execution_count": 28,
   "metadata": {},
   "outputs": [],
   "source": [
    "new_active = resample(active, replace=True, n_samples=len(inactive), random_state=27) "
   ]
  },
  {
   "cell_type": "code",
   "execution_count": 29,
   "metadata": {},
   "outputs": [],
   "source": [
    "upsampled = pd.concat([inactive, new_active])"
   ]
  },
  {
   "cell_type": "code",
   "execution_count": 30,
   "metadata": {},
   "outputs": [
    {
     "data": {
      "text/plain": [
       "1    204007\n",
       "0    204007\n",
       "Name: PUBCHEM_ACTIVITY_OUTCOME, dtype: int64"
      ]
     },
     "execution_count": 30,
     "metadata": {},
     "output_type": "execute_result"
    }
   ],
   "source": [
    "upsampled['PUBCHEM_ACTIVITY_OUTCOME'].value_counts()"
   ]
  },
  {
   "cell_type": "code",
   "execution_count": 31,
   "metadata": {},
   "outputs": [
    {
     "name": "stdout",
     "output_type": "stream",
     "text": [
      "accuracy_score: 0.5353754882669095\n",
      "f1_score: 0.6970857427335044\n",
      "recall_score: 0.535398099944116\n"
     ]
    }
   ],
   "source": [
    "upsampled_pred = predict(upsampled)\n",
    "print_metrics(y_test, upsampled_pred)"
   ]
  },
  {
   "cell_type": "markdown",
   "metadata": {},
   "source": [
    "# Undersample majority class"
   ]
  },
  {
   "cell_type": "code",
   "execution_count": 32,
   "metadata": {},
   "outputs": [],
   "source": [
    "new_inactive = resample(inactive, replace=False, n_samples=len(active), random_state=27)"
   ]
  },
  {
   "cell_type": "code",
   "execution_count": 33,
   "metadata": {},
   "outputs": [],
   "source": [
    "downsampled = pd.concat([new_inactive, active])"
   ]
  },
  {
   "cell_type": "code",
   "execution_count": 34,
   "metadata": {},
   "outputs": [
    {
     "data": {
      "text/plain": [
       "1    285\n",
       "0    285\n",
       "Name: PUBCHEM_ACTIVITY_OUTCOME, dtype: int64"
      ]
     },
     "execution_count": 34,
     "metadata": {},
     "output_type": "execute_result"
    }
   ],
   "source": [
    "downsampled['PUBCHEM_ACTIVITY_OUTCOME'].value_counts()"
   ]
  },
  {
   "cell_type": "code",
   "execution_count": 35,
   "metadata": {},
   "outputs": [
    {
     "name": "stdout",
     "output_type": "stream",
     "text": [
      "accuracy_score: 0.5218361772739287\n",
      "f1_score: 0.6854581634821585\n",
      "recall_score: 0.521780052354481\n"
     ]
    }
   ],
   "source": [
    "downsampled_pred = predict(downsampled)\n",
    "print_metrics(y_test, downsampled_pred)"
   ]
  },
  {
   "cell_type": "markdown",
   "metadata": {},
   "source": [
    "# SMOTE (Synthetic Minority Oversampling Technique)"
   ]
  },
  {
   "cell_type": "code",
   "execution_count": 36,
   "metadata": {},
   "outputs": [],
   "source": [
    "from imblearn.over_sampling import SMOTE"
   ]
  },
  {
   "cell_type": "code",
   "execution_count": 37,
   "metadata": {},
   "outputs": [],
   "source": [
    "sm = SMOTE(random_state=27)\n",
    "X_train, y_train = sm.fit_sample(X_train, y_train)"
   ]
  },
  {
   "cell_type": "code",
   "execution_count": 38,
   "metadata": {},
   "outputs": [],
   "source": [
    "smote = LogisticRegression(solver='liblinear').fit(X_train, y_train)"
   ]
  },
  {
   "cell_type": "code",
   "execution_count": 39,
   "metadata": {},
   "outputs": [
    {
     "name": "stdout",
     "output_type": "stream",
     "text": [
      "accuracy_score: 0.5380774765778731\n",
      "f1_score: 0.6993826334601196\n",
      "recall_score: 0.5381187681990647\n"
     ]
    }
   ],
   "source": [
    "smote_pred = smote.predict(X_test)\n",
    "print_metrics(y_test, smote_pred)"
   ]
  },
  {
   "cell_type": "code",
   "execution_count": null,
   "metadata": {},
   "outputs": [],
   "source": []
  }
 ],
 "metadata": {
  "kernelspec": {
   "display_name": "Python 3",
   "language": "python",
   "name": "python3"
  },
  "language_info": {
   "codemirror_mode": {
    "name": "ipython",
    "version": 3
   },
   "file_extension": ".py",
   "mimetype": "text/x-python",
   "name": "python",
   "nbconvert_exporter": "python",
   "pygments_lexer": "ipython3",
   "version": "3.8.3"
  }
 },
 "nbformat": 4,
 "nbformat_minor": 4
}
