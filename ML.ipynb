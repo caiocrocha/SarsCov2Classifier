{
 "cells": [
  {
   "cell_type": "code",
   "execution_count": 1,
   "metadata": {},
   "outputs": [],
   "source": [
    "import pandas as pd\n",
    "import numpy as np\n",
    "import seaborn as sns\n",
    "import matplotlib.pyplot as plt\n",
    "%matplotlib inline"
   ]
  },
  {
   "cell_type": "markdown",
   "metadata": {},
   "source": [
    "# Read data"
   ]
  },
  {
   "cell_type": "code",
   "execution_count": 2,
   "metadata": {},
   "outputs": [],
   "source": [
    "# Read QuickVina02 results\n",
    "qvina         = pd.read_csv('qvina.csv')\n",
    "qvina.columns = ['CID','pose','qvina']\n",
    "\n",
    "# Read QVina rescored with RF-Score\n",
    "rfscore_qvina         = pd.read_csv('rfscore_qvina.csv')\n",
    "rfscore_qvina.columns = ['CID','pose','rfscore_qvina']"
   ]
  },
  {
   "cell_type": "code",
   "execution_count": 3,
   "metadata": {
    "scrolled": true
   },
   "outputs": [
    {
     "data": {
      "text/html": [
       "<div>\n",
       "<style scoped>\n",
       "    .dataframe tbody tr th:only-of-type {\n",
       "        vertical-align: middle;\n",
       "    }\n",
       "\n",
       "    .dataframe tbody tr th {\n",
       "        vertical-align: top;\n",
       "    }\n",
       "\n",
       "    .dataframe thead th {\n",
       "        text-align: right;\n",
       "    }\n",
       "</style>\n",
       "<table border=\"1\" class=\"dataframe\">\n",
       "  <thead>\n",
       "    <tr style=\"text-align: right;\">\n",
       "      <th></th>\n",
       "      <th>CID</th>\n",
       "      <th>qvina</th>\n",
       "      <th>rfscore_qvina</th>\n",
       "    </tr>\n",
       "  </thead>\n",
       "  <tbody>\n",
       "    <tr>\n",
       "      <th>0</th>\n",
       "      <td>MAR-UNI-c84db004-13</td>\n",
       "      <td>-9.0</td>\n",
       "      <td>6.586498</td>\n",
       "    </tr>\n",
       "    <tr>\n",
       "      <th>1</th>\n",
       "      <td>BAR-COM-4e090d3a-53</td>\n",
       "      <td>-7.5</td>\n",
       "      <td>7.221692</td>\n",
       "    </tr>\n",
       "    <tr>\n",
       "      <th>2</th>\n",
       "      <td>TRY-UNI-714a760b-6</td>\n",
       "      <td>-6.4</td>\n",
       "      <td>6.377253</td>\n",
       "    </tr>\n",
       "    <tr>\n",
       "      <th>3</th>\n",
       "      <td>EDJ-MED-c9f55a56-1</td>\n",
       "      <td>-6.2</td>\n",
       "      <td>5.491030</td>\n",
       "    </tr>\n",
       "    <tr>\n",
       "      <th>4</th>\n",
       "      <td>LON-WEI-0a73fcb8-7</td>\n",
       "      <td>-7.4</td>\n",
       "      <td>6.677942</td>\n",
       "    </tr>\n",
       "  </tbody>\n",
       "</table>\n",
       "</div>"
      ],
      "text/plain": [
       "                   CID  qvina  rfscore_qvina\n",
       "0  MAR-UNI-c84db004-13   -9.0       6.586498\n",
       "1  BAR-COM-4e090d3a-53   -7.5       7.221692\n",
       "2   TRY-UNI-714a760b-6   -6.4       6.377253\n",
       "3   EDJ-MED-c9f55a56-1   -6.2       5.491030\n",
       "4   LON-WEI-0a73fcb8-7   -7.4       6.677942"
      ]
     },
     "execution_count": 3,
     "metadata": {},
     "output_type": "execute_result"
    }
   ],
   "source": [
    "top_qvina  = pd.merge(qvina.query('pose == 1'), rfscore_qvina.query('pose == 1'))\n",
    "top_qvina.drop('pose', axis=1, inplace=True)\n",
    "top_qvina.head()"
   ]
  },
  {
   "cell_type": "code",
   "execution_count": 4,
   "metadata": {},
   "outputs": [],
   "source": [
    "## Sort Qvina rescored with RF-Score\n",
    "#top_rfscore_qvina = rfscore_qvina.sort_values('rfscore_qvina', ascending=False).groupby('CID').head(1)\n",
    "#pd.merge(qvina.query('pose == 1'), rfscore_qvina.query('pose == 1')).append(pd.merge(qvina, rfscore_qvina.sort_values('rfscore_qvina', ascending=False).groupby('CID').head(1), on=['CID','pose']))"
   ]
  },
  {
   "cell_type": "code",
   "execution_count": 5,
   "metadata": {},
   "outputs": [],
   "source": [
    "# Read PLANTS results\n",
    "plants         = pd.read_csv('plants.csv')\n",
    "plants.columns = ['CID','pose','plants']\n",
    "\n",
    "# Read PLANTS rescored with RF-Score\n",
    "rfscore_plants         = pd.read_csv('rfscore_plants.csv', header=None)\n",
    "rfscore_plants.columns = ['rfscore_plants','CID']\n",
    "rfscore_plants         = rfscore_plants[['CID','rfscore_plants']]\n",
    "rfscore_plants[['CID','pose']] = rfscore_plants['CID'].str.split('_', expand=True)\n",
    "rfscore_plants['pose']         = rfscore_plants['pose'].astype('int')"
   ]
  },
  {
   "cell_type": "code",
   "execution_count": 6,
   "metadata": {},
   "outputs": [
    {
     "data": {
      "text/html": [
       "<div>\n",
       "<style scoped>\n",
       "    .dataframe tbody tr th:only-of-type {\n",
       "        vertical-align: middle;\n",
       "    }\n",
       "\n",
       "    .dataframe tbody tr th {\n",
       "        vertical-align: top;\n",
       "    }\n",
       "\n",
       "    .dataframe thead th {\n",
       "        text-align: right;\n",
       "    }\n",
       "</style>\n",
       "<table border=\"1\" class=\"dataframe\">\n",
       "  <thead>\n",
       "    <tr style=\"text-align: right;\">\n",
       "      <th></th>\n",
       "      <th>CID</th>\n",
       "      <th>plants</th>\n",
       "      <th>rfscore_plants</th>\n",
       "    </tr>\n",
       "  </thead>\n",
       "  <tbody>\n",
       "    <tr>\n",
       "      <th>0</th>\n",
       "      <td>EDG-MED-0da5ad92-3</td>\n",
       "      <td>-70.8540</td>\n",
       "      <td>6.885798</td>\n",
       "    </tr>\n",
       "    <tr>\n",
       "      <th>1</th>\n",
       "      <td>DAR-DIA-23aa0b97-19</td>\n",
       "      <td>-79.4982</td>\n",
       "      <td>6.852397</td>\n",
       "    </tr>\n",
       "    <tr>\n",
       "      <th>2</th>\n",
       "      <td>MAT-POS-590ac91e-22</td>\n",
       "      <td>-70.4662</td>\n",
       "      <td>6.217164</td>\n",
       "    </tr>\n",
       "    <tr>\n",
       "      <th>3</th>\n",
       "      <td>LON-WEI-1908424e-3</td>\n",
       "      <td>-90.5268</td>\n",
       "      <td>7.534084</td>\n",
       "    </tr>\n",
       "    <tr>\n",
       "      <th>4</th>\n",
       "      <td>GIA-UNK-30c7cb75-1</td>\n",
       "      <td>-76.6202</td>\n",
       "      <td>6.839672</td>\n",
       "    </tr>\n",
       "  </tbody>\n",
       "</table>\n",
       "</div>"
      ],
      "text/plain": [
       "                   CID   plants  rfscore_plants\n",
       "0   EDG-MED-0da5ad92-3 -70.8540        6.885798\n",
       "1  DAR-DIA-23aa0b97-19 -79.4982        6.852397\n",
       "2  MAT-POS-590ac91e-22 -70.4662        6.217164\n",
       "3   LON-WEI-1908424e-3 -90.5268        7.534084\n",
       "4   GIA-UNK-30c7cb75-1 -76.6202        6.839672"
      ]
     },
     "execution_count": 6,
     "metadata": {},
     "output_type": "execute_result"
    }
   ],
   "source": [
    "top_plants = pd.merge(plants.query('pose == 1'), rfscore_plants.query('pose == 1'))\n",
    "top_plants.drop('pose', axis=1, inplace=True)\n",
    "top_plants.head()"
   ]
  },
  {
   "cell_type": "code",
   "execution_count": 7,
   "metadata": {},
   "outputs": [],
   "source": [
    "# Sort PLANTS rescored with RF-Score\n",
    "#top_rfscore_plants = rfscore_plants.sort_values('rfscore_plants', ascending=False).groupby('CID').head(1)"
   ]
  },
  {
   "cell_type": "code",
   "execution_count": 8,
   "metadata": {},
   "outputs": [
    {
     "data": {
      "text/html": [
       "<div>\n",
       "<style scoped>\n",
       "    .dataframe tbody tr th:only-of-type {\n",
       "        vertical-align: middle;\n",
       "    }\n",
       "\n",
       "    .dataframe tbody tr th {\n",
       "        vertical-align: top;\n",
       "    }\n",
       "\n",
       "    .dataframe thead th {\n",
       "        text-align: right;\n",
       "    }\n",
       "</style>\n",
       "<table border=\"1\" class=\"dataframe\">\n",
       "  <thead>\n",
       "    <tr style=\"text-align: right;\">\n",
       "      <th></th>\n",
       "      <th>CID</th>\n",
       "      <th>r_inhibition_at_50_uM</th>\n",
       "      <th>r_avg_IC50</th>\n",
       "      <th>f_inhibition_at_50_uM</th>\n",
       "      <th>f_avg_IC50</th>\n",
       "    </tr>\n",
       "  </thead>\n",
       "  <tbody>\n",
       "    <tr>\n",
       "      <th>0</th>\n",
       "      <td>MAT-POS-1e5f28a7-1</td>\n",
       "      <td>NaN</td>\n",
       "      <td>17.091397</td>\n",
       "      <td>NaN</td>\n",
       "      <td>23.712295</td>\n",
       "    </tr>\n",
       "    <tr>\n",
       "      <th>1</th>\n",
       "      <td>MAT-POS-e10a589d-1</td>\n",
       "      <td>NaN</td>\n",
       "      <td>99.000000</td>\n",
       "      <td>NaN</td>\n",
       "      <td>0.326703</td>\n",
       "    </tr>\n",
       "    <tr>\n",
       "      <th>2</th>\n",
       "      <td>MAT-POS-e10a589d-4</td>\n",
       "      <td>NaN</td>\n",
       "      <td>NaN</td>\n",
       "      <td>NaN</td>\n",
       "      <td>15.730897</td>\n",
       "    </tr>\n",
       "    <tr>\n",
       "      <th>3</th>\n",
       "      <td>MAT-POS-1e0c1c67-1</td>\n",
       "      <td>NaN</td>\n",
       "      <td>99.000000</td>\n",
       "      <td>NaN</td>\n",
       "      <td>2.400602</td>\n",
       "    </tr>\n",
       "    <tr>\n",
       "      <th>4</th>\n",
       "      <td>MAT-POS-6da3605a-1</td>\n",
       "      <td>NaN</td>\n",
       "      <td>99.000000</td>\n",
       "      <td>NaN</td>\n",
       "      <td>99.500000</td>\n",
       "    </tr>\n",
       "  </tbody>\n",
       "</table>\n",
       "</div>"
      ],
      "text/plain": [
       "                  CID  r_inhibition_at_50_uM  r_avg_IC50  \\\n",
       "0  MAT-POS-1e5f28a7-1                    NaN   17.091397   \n",
       "1  MAT-POS-e10a589d-1                    NaN   99.000000   \n",
       "2  MAT-POS-e10a589d-4                    NaN         NaN   \n",
       "3  MAT-POS-1e0c1c67-1                    NaN   99.000000   \n",
       "4  MAT-POS-6da3605a-1                    NaN   99.000000   \n",
       "\n",
       "   f_inhibition_at_50_uM  f_avg_IC50  \n",
       "0                    NaN   23.712295  \n",
       "1                    NaN    0.326703  \n",
       "2                    NaN   15.730897  \n",
       "3                    NaN    2.400602  \n",
       "4                    NaN   99.500000  "
      ]
     },
     "execution_count": 8,
     "metadata": {},
     "output_type": "execute_result"
    }
   ],
   "source": [
    "# Read experimental data\n",
    "exp = pd.read_csv('activity_data.csv')\n",
    "exp = exp[['CID','r_inhibition_at_50_uM','r_avg_IC50','f_inhibition_at_50_uM','f_avg_IC50']]\n",
    "exp.head()"
   ]
  },
  {
   "cell_type": "code",
   "execution_count": 9,
   "metadata": {},
   "outputs": [],
   "source": [
    "tmp = pd.merge(top_qvina, top_plants)\n",
    "top = pd.merge(tmp, exp)"
   ]
  },
  {
   "cell_type": "code",
   "execution_count": 10,
   "metadata": {},
   "outputs": [],
   "source": [
    "# Normalize scores\n",
    "top['plants'] /= 10\n",
    "top[['rfscore_qvina','rfscore_plants']] *= -1"
   ]
  },
  {
   "cell_type": "code",
   "execution_count": 11,
   "metadata": {},
   "outputs": [],
   "source": [
    "import pingouin as pg"
   ]
  },
  {
   "cell_type": "code",
   "execution_count": 12,
   "metadata": {
    "scrolled": false
   },
   "outputs": [
    {
     "name": "stdout",
     "output_type": "stream",
     "text": [
      "qvina: 0.0323\n",
      "rfscore_qvina: 0.0115\n",
      "plants: 0.0859\n",
      "rfscore_plants: 0.0667\n"
     ]
    }
   ],
   "source": [
    "for SF in ['qvina','rfscore_qvina','plants','rfscore_plants']:\n",
    "    df = top[(top['r_avg_IC50'] > 0) & (top['r_avg_IC50'] < 10) & (top[SF] < 0)]\n",
    "    print(f'{SF}: {pg.corr(df[SF], df[\"r_avg_IC50\"], method=\"shepherd\")[\"r2\"].item():.4f}')"
   ]
  },
  {
   "cell_type": "code",
   "execution_count": 13,
   "metadata": {
    "scrolled": true
   },
   "outputs": [
    {
     "name": "stdout",
     "output_type": "stream",
     "text": [
      "qvina: 0.0293\n",
      "rfscore_qvina: 0.0315\n",
      "plants: 0.0034\n",
      "rfscore_plants: 0.0340\n"
     ]
    }
   ],
   "source": [
    "# Sem remover outliers\n",
    "for SF in ['qvina','rfscore_qvina','plants','rfscore_plants']:\n",
    "    print(f'{SF}: {pg.corr(top[SF], top[\"r_avg_IC50\"], method=\"shepherd\")[\"r2\"].item():.4f}')"
   ]
  },
  {
   "cell_type": "code",
   "execution_count": 14,
   "metadata": {},
   "outputs": [],
   "source": [
    "descriptors = pd.read_csv('descriptors.csv')"
   ]
  },
  {
   "cell_type": "code",
   "execution_count": 15,
   "metadata": {
    "scrolled": true
   },
   "outputs": [],
   "source": [
    "data = pd.merge(top, descriptors)\n",
    "data.rename({'VABC Volume Descriptor': 'Volume', 'Rotatable Bonds Count': 'Rotatable Bonds', 'Topological Polar Surface Area': 'TPSA'}, axis=1, inplace=True)"
   ]
  },
  {
   "cell_type": "code",
   "execution_count": 16,
   "metadata": {},
   "outputs": [
    {
     "data": {
      "text/html": [
       "<div>\n",
       "<style scoped>\n",
       "    .dataframe tbody tr th:only-of-type {\n",
       "        vertical-align: middle;\n",
       "    }\n",
       "\n",
       "    .dataframe tbody tr th {\n",
       "        vertical-align: top;\n",
       "    }\n",
       "\n",
       "    .dataframe thead th {\n",
       "        text-align: right;\n",
       "    }\n",
       "</style>\n",
       "<table border=\"1\" class=\"dataframe\">\n",
       "  <thead>\n",
       "    <tr style=\"text-align: right;\">\n",
       "      <th></th>\n",
       "      <th>CID</th>\n",
       "      <th>qvina</th>\n",
       "      <th>rfscore_qvina</th>\n",
       "      <th>plants</th>\n",
       "      <th>rfscore_plants</th>\n",
       "      <th>r_inhibition_at_50_uM</th>\n",
       "      <th>r_avg_IC50</th>\n",
       "      <th>f_inhibition_at_50_uM</th>\n",
       "      <th>f_avg_IC50</th>\n",
       "      <th>Volume</th>\n",
       "      <th>Rotatable Bonds</th>\n",
       "      <th>TPSA</th>\n",
       "      <th>Molecular Weight</th>\n",
       "      <th>XLogP</th>\n",
       "    </tr>\n",
       "  </thead>\n",
       "  <tbody>\n",
       "    <tr>\n",
       "      <th>0</th>\n",
       "      <td>MAR-UNI-c84db004-13</td>\n",
       "      <td>-9.0</td>\n",
       "      <td>-6.586498</td>\n",
       "      <td>-8.59230</td>\n",
       "      <td>-7.447876</td>\n",
       "      <td>0.000000</td>\n",
       "      <td>NaN</td>\n",
       "      <td>NaN</td>\n",
       "      <td>NaN</td>\n",
       "      <td>424.84863706529114</td>\n",
       "      <td>6</td>\n",
       "      <td>111.52</td>\n",
       "      <td>510.131468</td>\n",
       "      <td>5.100</td>\n",
       "    </tr>\n",
       "    <tr>\n",
       "      <th>1</th>\n",
       "      <td>BAR-COM-4e090d3a-53</td>\n",
       "      <td>-7.5</td>\n",
       "      <td>-7.221692</td>\n",
       "      <td>-8.38857</td>\n",
       "      <td>-7.340981</td>\n",
       "      <td>0.000000</td>\n",
       "      <td>NaN</td>\n",
       "      <td>16.960570</td>\n",
       "      <td>NaN</td>\n",
       "      <td>275.6888879402175</td>\n",
       "      <td>6</td>\n",
       "      <td>93.21</td>\n",
       "      <td>312.122240</td>\n",
       "      <td>-0.187</td>\n",
       "    </tr>\n",
       "    <tr>\n",
       "      <th>2</th>\n",
       "      <td>TRY-UNI-714a760b-6</td>\n",
       "      <td>-6.4</td>\n",
       "      <td>-6.377253</td>\n",
       "      <td>-6.87197</td>\n",
       "      <td>-6.414523</td>\n",
       "      <td>NaN</td>\n",
       "      <td>13.895165</td>\n",
       "      <td>81.756960</td>\n",
       "      <td>24.566619</td>\n",
       "      <td>231.72693004306151</td>\n",
       "      <td>5</td>\n",
       "      <td>41.99</td>\n",
       "      <td>260.071641</td>\n",
       "      <td>2.401</td>\n",
       "    </tr>\n",
       "    <tr>\n",
       "      <th>3</th>\n",
       "      <td>EDJ-MED-c9f55a56-1</td>\n",
       "      <td>-6.2</td>\n",
       "      <td>-5.491030</td>\n",
       "      <td>-6.94555</td>\n",
       "      <td>-6.042434</td>\n",
       "      <td>4.870901</td>\n",
       "      <td>NaN</td>\n",
       "      <td>0.403773</td>\n",
       "      <td>NaN</td>\n",
       "      <td>206.5538721380282</td>\n",
       "      <td>5</td>\n",
       "      <td>70.67</td>\n",
       "      <td>230.116761</td>\n",
       "      <td>1.169</td>\n",
       "    </tr>\n",
       "    <tr>\n",
       "      <th>4</th>\n",
       "      <td>LON-WEI-0a73fcb8-7</td>\n",
       "      <td>-7.4</td>\n",
       "      <td>-6.677942</td>\n",
       "      <td>-7.34504</td>\n",
       "      <td>-6.826287</td>\n",
       "      <td>58.930356</td>\n",
       "      <td>66.350807</td>\n",
       "      <td>84.229060</td>\n",
       "      <td>13.671987</td>\n",
       "      <td>271.54289399511737</td>\n",
       "      <td>5</td>\n",
       "      <td>71.45</td>\n",
       "      <td>318.077120</td>\n",
       "      <td>1.647</td>\n",
       "    </tr>\n",
       "  </tbody>\n",
       "</table>\n",
       "</div>"
      ],
      "text/plain": [
       "                   CID  qvina  rfscore_qvina   plants  rfscore_plants  \\\n",
       "0  MAR-UNI-c84db004-13   -9.0      -6.586498 -8.59230       -7.447876   \n",
       "1  BAR-COM-4e090d3a-53   -7.5      -7.221692 -8.38857       -7.340981   \n",
       "2   TRY-UNI-714a760b-6   -6.4      -6.377253 -6.87197       -6.414523   \n",
       "3   EDJ-MED-c9f55a56-1   -6.2      -5.491030 -6.94555       -6.042434   \n",
       "4   LON-WEI-0a73fcb8-7   -7.4      -6.677942 -7.34504       -6.826287   \n",
       "\n",
       "   r_inhibition_at_50_uM  r_avg_IC50  f_inhibition_at_50_uM  f_avg_IC50  \\\n",
       "0               0.000000         NaN                    NaN         NaN   \n",
       "1               0.000000         NaN              16.960570         NaN   \n",
       "2                    NaN   13.895165              81.756960   24.566619   \n",
       "3               4.870901         NaN               0.403773         NaN   \n",
       "4              58.930356   66.350807              84.229060   13.671987   \n",
       "\n",
       "               Volume  Rotatable Bonds    TPSA  Molecular Weight  XLogP  \n",
       "0  424.84863706529114                6  111.52        510.131468  5.100  \n",
       "1   275.6888879402175                6   93.21        312.122240 -0.187  \n",
       "2  231.72693004306151                5   41.99        260.071641  2.401  \n",
       "3   206.5538721380282                5   70.67        230.116761  1.169  \n",
       "4  271.54289399511737                5   71.45        318.077120  1.647  "
      ]
     },
     "execution_count": 16,
     "metadata": {},
     "output_type": "execute_result"
    }
   ],
   "source": [
    "data.head()"
   ]
  },
  {
   "cell_type": "code",
   "execution_count": 17,
   "metadata": {
    "scrolled": false
   },
   "outputs": [
    {
     "data": {
      "text/html": [
       "<div>\n",
       "<style scoped>\n",
       "    .dataframe tbody tr th:only-of-type {\n",
       "        vertical-align: middle;\n",
       "    }\n",
       "\n",
       "    .dataframe tbody tr th {\n",
       "        vertical-align: top;\n",
       "    }\n",
       "\n",
       "    .dataframe thead th {\n",
       "        text-align: right;\n",
       "    }\n",
       "</style>\n",
       "<table border=\"1\" class=\"dataframe\">\n",
       "  <thead>\n",
       "    <tr style=\"text-align: right;\">\n",
       "      <th></th>\n",
       "      <th>r_inhibition_at_50_uM</th>\n",
       "      <th>f_inhibition_at_50_uM</th>\n",
       "    </tr>\n",
       "  </thead>\n",
       "  <tbody>\n",
       "    <tr>\n",
       "      <th>r_inhibition_at_50_uM</th>\n",
       "      <td>1.00000</td>\n",
       "      <td>0.69768</td>\n",
       "    </tr>\n",
       "    <tr>\n",
       "      <th>f_inhibition_at_50_uM</th>\n",
       "      <td>0.69768</td>\n",
       "      <td>1.00000</td>\n",
       "    </tr>\n",
       "  </tbody>\n",
       "</table>\n",
       "</div>"
      ],
      "text/plain": [
       "                       r_inhibition_at_50_uM  f_inhibition_at_50_uM\n",
       "r_inhibition_at_50_uM                1.00000                0.69768\n",
       "f_inhibition_at_50_uM                0.69768                1.00000"
      ]
     },
     "execution_count": 17,
     "metadata": {},
     "output_type": "execute_result"
    }
   ],
   "source": [
    "data[['r_inhibition_at_50_uM','f_inhibition_at_50_uM']].corr()"
   ]
  },
  {
   "cell_type": "code",
   "execution_count": 18,
   "metadata": {},
   "outputs": [
    {
     "data": {
      "text/plain": [
       "<matplotlib.axes._subplots.AxesSubplot at 0x7fbf4c81ae50>"
      ]
     },
     "execution_count": 18,
     "metadata": {},
     "output_type": "execute_result"
    },
    {
     "data": {
      "image/png": "[encoded data removed]",
      "text/plain": [
       "<Figure size 432x288 with 1 Axes>"
      ]
     },
     "metadata": {
      "needs_background": "light"
     },
     "output_type": "display_data"
    }
   ],
   "source": [
    "sns.regplot(data['r_inhibition_at_50_uM'],data['f_inhibition_at_50_uM'])"
   ]
  },
  {
   "cell_type": "code",
   "execution_count": 19,
   "metadata": {},
   "outputs": [],
   "source": [
    "data.dropna(subset=['r_inhibition_at_50_uM'], inplace=True)\n",
    "data['Active'] = data['r_inhibition_at_50_uM'] > 50\n",
    "data['Active'] = data['Active'].astype(int) # 1 para ativo, 0 para inativo"
   ]
  },
  {
   "cell_type": "code",
   "execution_count": 20,
   "metadata": {},
   "outputs": [
    {
     "data": {
      "text/plain": [
       "0    604\n",
       "1    136\n",
       "Name: Active, dtype: int64"
      ]
     },
     "execution_count": 20,
     "metadata": {},
     "output_type": "execute_result"
    }
   ],
   "source": [
    "subset = ['qvina','rfscore_qvina','Volume','Rotatable Bonds','TPSA','Molecular Weight','XLogP']\n",
    "data.dropna(subset=subset, inplace=True)\n",
    "data['Active'].value_counts()"
   ]
  },
  {
   "cell_type": "markdown",
   "metadata": {},
   "source": [
    "# Split train and test variables"
   ]
  },
  {
   "cell_type": "code",
   "execution_count": 21,
   "metadata": {},
   "outputs": [],
   "source": [
    "from sklearn.model_selection import train_test_split \n",
    "from sklearn import metrics\n",
    "from sklearn.model_selection import cross_validate"
   ]
  },
  {
   "cell_type": "code",
   "execution_count": 22,
   "metadata": {},
   "outputs": [],
   "source": [
    "y = data['Active']\n",
    "X = data[subset].values\n",
    "\n",
    "X_train, X_test, y_train, y_test = train_test_split(X, y, test_size=0.3, random_state=27)"
   ]
  },
  {
   "cell_type": "markdown",
   "metadata": {},
   "source": [
    "# Dummy classifier"
   ]
  },
  {
   "cell_type": "code",
   "execution_count": 23,
   "metadata": {},
   "outputs": [],
   "source": [
    "from sklearn.dummy import DummyClassifier"
   ]
  },
  {
   "cell_type": "code",
   "execution_count": 24,
   "metadata": {},
   "outputs": [
    {
     "name": "stdout",
     "output_type": "stream",
     "text": [
      "Unique predicted labels:  [0]\n",
      "Test score:  0.7837837837837838\n"
     ]
    }
   ],
   "source": [
    "dummy = DummyClassifier(strategy='most_frequent').fit(X_train, y_train)\n",
    "dummy_pred = dummy.predict(X_test)\n",
    "\n",
    "\n",
    "# checking unique labels\n",
    "print('Unique predicted labels: ', (np.unique(dummy_pred)))\n",
    "\n",
    "# checking accuracy\n",
    "print('Test score: ', metrics.accuracy_score(y_test, dummy_pred))"
   ]
  },
  {
   "cell_type": "code",
   "execution_count": 25,
   "metadata": {},
   "outputs": [],
   "source": [
    "from sklearn.metrics import roc_curve"
   ]
  },
  {
   "cell_type": "code",
   "execution_count": 26,
   "metadata": {},
   "outputs": [],
   "source": [
    "def predict(X_train, y_train, method='lr'):\n",
    "    if method == 'rf':\n",
    "        model = RandomForestClassifier(n_estimators=10).fit(X_train, y_train)\n",
    "    elif method == 'svm':\n",
    "        model = SVC(kernel='linear').fit(X_train, y_train)\n",
    "    else:\n",
    "        model = LogisticRegression(solver='liblinear').fit(X_train, y_train)\n",
    "    \n",
    "    #model_probs = model.predict_proba(X_test)\n",
    "    #fpr, tpr, _ = roc_curve(y_test, model_probs)\n",
    "    #plt.plot(fpr, tpr)\n",
    "    #plt.title(method)\n",
    "    \n",
    "    return model.predict(X_test)\n",
    "\n",
    "def print_metrics(y_test, y_pred):\n",
    "    print(f'accuracy_score: {metrics.accuracy_score(y_test, y_pred)}')\n",
    "    print(f'f1_score: {metrics.f1_score(y_test, y_pred)}')\n",
    "    print(f'recall_score: {metrics.recall_score(y_test, y_pred)}\\n')"
   ]
  },
  {
   "cell_type": "markdown",
   "metadata": {},
   "source": [
    "## Evaluation metrics\n",
    "\n",
    "* Accuracy score: true positives / total\n",
    "* Precision: low false positive rate\n",
    "* Recall (sensitivity): true positives / all positives\n",
    "* F1 score: weighted avg of precision and recall ~ better than accuracy for uneven class distribution\n",
    "* Roc_auc: TPR / FPR"
   ]
  },
  {
   "cell_type": "code",
   "execution_count": 27,
   "metadata": {},
   "outputs": [],
   "source": [
    "from sklearn.model_selection import cross_validate"
   ]
  },
  {
   "cell_type": "code",
   "execution_count": 28,
   "metadata": {},
   "outputs": [],
   "source": [
    "scoring_metrics = ['accuracy','f1','precision','recall','roc_auc']\n",
    "scoring_test=['test_' + s for s in scoring_metrics]"
   ]
  },
  {
   "cell_type": "markdown",
   "metadata": {},
   "source": [
    "## Logistic regression"
   ]
  },
  {
   "cell_type": "code",
   "execution_count": 29,
   "metadata": {},
   "outputs": [],
   "source": [
    "from sklearn.linear_model import LogisticRegression"
   ]
  },
  {
   "cell_type": "code",
   "execution_count": 30,
   "metadata": {
    "scrolled": false
   },
   "outputs": [
    {
     "data": {
      "text/plain": [
       "test_accuracy     0.824324\n",
       "test_f1           0.290983\n",
       "test_precision    0.614646\n",
       "test_recall       0.198413\n",
       "test_roc_auc      0.759954\n",
       "dtype: float64"
      ]
     },
     "execution_count": 30,
     "metadata": {},
     "output_type": "execute_result"
    }
   ],
   "source": [
    "lr = LogisticRegression(solver='liblinear')\n",
    "pd.DataFrame(cross_validate(lr, X, y, scoring=scoring_metrics))[scoring_test].mean()"
   ]
  },
  {
   "cell_type": "markdown",
   "metadata": {},
   "source": [
    "## Random forest"
   ]
  },
  {
   "cell_type": "code",
   "execution_count": 31,
   "metadata": {},
   "outputs": [],
   "source": [
    "from sklearn.ensemble import RandomForestClassifier"
   ]
  },
  {
   "cell_type": "code",
   "execution_count": 32,
   "metadata": {},
   "outputs": [
    {
     "data": {
      "text/plain": [
       "test_accuracy     0.821622\n",
       "test_f1           0.296497\n",
       "test_precision    0.528333\n",
       "test_recall       0.214021\n",
       "test_roc_auc      0.652750\n",
       "dtype: float64"
      ]
     },
     "execution_count": 32,
     "metadata": {},
     "output_type": "execute_result"
    }
   ],
   "source": [
    "rfc = RandomForestClassifier(n_estimators=10)\n",
    "pd.DataFrame(cross_validate(rfc, X, y, scoring=scoring_metrics))[scoring_test].mean()"
   ]
  },
  {
   "cell_type": "markdown",
   "metadata": {},
   "source": [
    "## KNN"
   ]
  },
  {
   "cell_type": "code",
   "execution_count": 33,
   "metadata": {},
   "outputs": [],
   "source": [
    "from sklearn.neighbors import KNeighborsClassifier"
   ]
  },
  {
   "cell_type": "code",
   "execution_count": 34,
   "metadata": {},
   "outputs": [
    {
     "data": {
      "text/plain": [
       "test_accuracy     0.790541\n",
       "test_f1           0.193078\n",
       "test_precision    0.334269\n",
       "test_recall       0.139683\n",
       "test_roc_auc      0.647419\n",
       "dtype: float64"
      ]
     },
     "execution_count": 34,
     "metadata": {},
     "output_type": "execute_result"
    }
   ],
   "source": [
    "knn = KNeighborsClassifier(n_neighbors=5)\n",
    "pd.DataFrame(cross_validate(knn, X, y, scoring=scoring_metrics))[scoring_test].mean()"
   ]
  },
  {
   "cell_type": "markdown",
   "metadata": {},
   "source": [
    "## SVM"
   ]
  },
  {
   "cell_type": "code",
   "execution_count": 35,
   "metadata": {},
   "outputs": [],
   "source": [
    "from sklearn.svm import SVC"
   ]
  },
  {
   "cell_type": "code",
   "execution_count": 36,
   "metadata": {
    "scrolled": true
   },
   "outputs": [
    {
     "name": "stderr",
     "output_type": "stream",
     "text": [
      "/home/caio/miniconda3/lib/python3.8/site-packages/sklearn/metrics/_classification.py:1221: UndefinedMetricWarning: Precision is ill-defined and being set to 0.0 due to no predicted samples. Use `zero_division` parameter to control this behavior.\n",
      "  _warn_prf(average, modifier, msg_start, len(result))\n",
      "/home/caio/miniconda3/lib/python3.8/site-packages/sklearn/metrics/_classification.py:1221: UndefinedMetricWarning: Precision is ill-defined and being set to 0.0 due to no predicted samples. Use `zero_division` parameter to control this behavior.\n",
      "  _warn_prf(average, modifier, msg_start, len(result))\n",
      "/home/caio/miniconda3/lib/python3.8/site-packages/sklearn/metrics/_classification.py:1221: UndefinedMetricWarning: Precision is ill-defined and being set to 0.0 due to no predicted samples. Use `zero_division` parameter to control this behavior.\n",
      "  _warn_prf(average, modifier, msg_start, len(result))\n",
      "/home/caio/miniconda3/lib/python3.8/site-packages/sklearn/metrics/_classification.py:1221: UndefinedMetricWarning: Precision is ill-defined and being set to 0.0 due to no predicted samples. Use `zero_division` parameter to control this behavior.\n",
      "  _warn_prf(average, modifier, msg_start, len(result))\n"
     ]
    },
    {
     "data": {
      "text/plain": [
       "test_accuracy     0.816216\n",
       "test_f1           0.013793\n",
       "test_precision    0.100000\n",
       "test_recall       0.007407\n",
       "test_roc_auc      0.757624\n",
       "dtype: float64"
      ]
     },
     "execution_count": 36,
     "metadata": {},
     "output_type": "execute_result"
    }
   ],
   "source": [
    "svm = SVC(kernel='linear')\n",
    "pd.DataFrame(cross_validate(svm, X, y, scoring=scoring_metrics))[scoring_test].mean()"
   ]
  },
  {
   "cell_type": "markdown",
   "metadata": {},
   "source": [
    "# Oversample minority class"
   ]
  },
  {
   "cell_type": "code",
   "execution_count": 37,
   "metadata": {},
   "outputs": [],
   "source": [
    "from sklearn.utils import resample"
   ]
  },
  {
   "cell_type": "code",
   "execution_count": 38,
   "metadata": {},
   "outputs": [
    {
     "data": {
      "text/plain": [
       "1.0    270\n",
       "0.0    270\n",
       "Name: Active, dtype: int64"
      ]
     },
     "execution_count": 38,
     "metadata": {},
     "output_type": "execute_result"
    }
   ],
   "source": [
    "y = data['Active']\n",
    "X = data[subset].values\n",
    "\n",
    "X_train, X_test, y_train, y_test = train_test_split(X, y, test_size=0.25, random_state=27)\n",
    "\n",
    "X = pd.DataFrame(X_train, columns=subset).join(y_train)\n",
    "active = X.query('Active == 1')\n",
    "inactive = X.query('Active == 0')\n",
    "\n",
    "new_active = resample(active, replace=True, n_samples=len(inactive), random_state=27) \n",
    "upsampled = pd.concat([inactive, new_active])\n",
    "upsampled['Active'].value_counts()"
   ]
  },
  {
   "cell_type": "code",
   "execution_count": 39,
   "metadata": {},
   "outputs": [
    {
     "data": {
      "text/html": [
       "<div>\n",
       "<style scoped>\n",
       "    .dataframe tbody tr th:only-of-type {\n",
       "        vertical-align: middle;\n",
       "    }\n",
       "\n",
       "    .dataframe tbody tr th {\n",
       "        vertical-align: top;\n",
       "    }\n",
       "\n",
       "    .dataframe thead th {\n",
       "        text-align: right;\n",
       "    }\n",
       "</style>\n",
       "<table border=\"1\" class=\"dataframe\">\n",
       "  <thead>\n",
       "    <tr style=\"text-align: right;\">\n",
       "      <th></th>\n",
       "      <th>qvina</th>\n",
       "      <th>rfscore_qvina</th>\n",
       "      <th>Volume</th>\n",
       "      <th>Rotatable Bonds</th>\n",
       "      <th>TPSA</th>\n",
       "      <th>Molecular Weight</th>\n",
       "      <th>XLogP</th>\n",
       "      <th>Active</th>\n",
       "    </tr>\n",
       "  </thead>\n",
       "  <tbody>\n",
       "    <tr>\n",
       "      <th>0</th>\n",
       "      <td>-7.6</td>\n",
       "      <td>-6.86693</td>\n",
       "      <td>369.55535800282456</td>\n",
       "      <td>7</td>\n",
       "      <td>43.78</td>\n",
       "      <td>370.239</td>\n",
       "      <td>3.517</td>\n",
       "      <td>0.0</td>\n",
       "    </tr>\n",
       "    <tr>\n",
       "      <th>1</th>\n",
       "      <td>-6.5</td>\n",
       "      <td>-5.93428</td>\n",
       "      <td>248.90129801675593</td>\n",
       "      <td>6</td>\n",
       "      <td>38.33</td>\n",
       "      <td>255.126</td>\n",
       "      <td>2.977</td>\n",
       "      <td>0.0</td>\n",
       "    </tr>\n",
       "    <tr>\n",
       "      <th>3</th>\n",
       "      <td>-6.8</td>\n",
       "      <td>-6.70817</td>\n",
       "      <td>258.7849490580029</td>\n",
       "      <td>10</td>\n",
       "      <td>81.44</td>\n",
       "      <td>334.06</td>\n",
       "      <td>2.623</td>\n",
       "      <td>0.0</td>\n",
       "    </tr>\n",
       "    <tr>\n",
       "      <th>5</th>\n",
       "      <td>-6.6</td>\n",
       "      <td>-5.93379</td>\n",
       "      <td>243.86204774367437</td>\n",
       "      <td>7</td>\n",
       "      <td>41.99</td>\n",
       "      <td>296.053</td>\n",
       "      <td>3.156</td>\n",
       "      <td>0.0</td>\n",
       "    </tr>\n",
       "    <tr>\n",
       "      <th>6</th>\n",
       "      <td>-7.3</td>\n",
       "      <td>-6.87178</td>\n",
       "      <td>315.78920321895714</td>\n",
       "      <td>5</td>\n",
       "      <td>75.02</td>\n",
       "      <td>337.182</td>\n",
       "      <td>2.265</td>\n",
       "      <td>0.0</td>\n",
       "    </tr>\n",
       "    <tr>\n",
       "      <th>...</th>\n",
       "      <td>...</td>\n",
       "      <td>...</td>\n",
       "      <td>...</td>\n",
       "      <td>...</td>\n",
       "      <td>...</td>\n",
       "      <td>...</td>\n",
       "      <td>...</td>\n",
       "      <td>...</td>\n",
       "    </tr>\n",
       "    <tr>\n",
       "      <th>394</th>\n",
       "      <td>-7.5</td>\n",
       "      <td>-6.69777</td>\n",
       "      <td>336.1791334597853</td>\n",
       "      <td>4</td>\n",
       "      <td>65.64</td>\n",
       "      <td>363.158</td>\n",
       "      <td>3.564</td>\n",
       "      <td>1.0</td>\n",
       "    </tr>\n",
       "    <tr>\n",
       "      <th>261</th>\n",
       "      <td>-6.6</td>\n",
       "      <td>-6.42551</td>\n",
       "      <td>256.04735744942843</td>\n",
       "      <td>5</td>\n",
       "      <td>41.99</td>\n",
       "      <td>266.142</td>\n",
       "      <td>2.844</td>\n",
       "      <td>1.0</td>\n",
       "    </tr>\n",
       "    <tr>\n",
       "      <th>457</th>\n",
       "      <td>-5.9</td>\n",
       "      <td>-7.15273</td>\n",
       "      <td>430.07598936485266</td>\n",
       "      <td>15</td>\n",
       "      <td>71.53</td>\n",
       "      <td>423.252</td>\n",
       "      <td>4.237</td>\n",
       "      <td>1.0</td>\n",
       "    </tr>\n",
       "    <tr>\n",
       "      <th>502</th>\n",
       "      <td>-5.6</td>\n",
       "      <td>-5.60961</td>\n",
       "      <td>214.4630217489226</td>\n",
       "      <td>3</td>\n",
       "      <td>51.22</td>\n",
       "      <td>232.121</td>\n",
       "      <td>0.162</td>\n",
       "      <td>1.0</td>\n",
       "    </tr>\n",
       "    <tr>\n",
       "      <th>7</th>\n",
       "      <td>-7</td>\n",
       "      <td>-7.78055</td>\n",
       "      <td>376.80835346108546</td>\n",
       "      <td>7</td>\n",
       "      <td>65.12</td>\n",
       "      <td>428.138</td>\n",
       "      <td>0.844</td>\n",
       "      <td>1.0</td>\n",
       "    </tr>\n",
       "  </tbody>\n",
       "</table>\n",
       "<p>540 rows × 8 columns</p>\n",
       "</div>"
      ],
      "text/plain": [
       "    qvina rfscore_qvina              Volume Rotatable Bonds   TPSA  \\\n",
       "0    -7.6      -6.86693  369.55535800282456               7  43.78   \n",
       "1    -6.5      -5.93428  248.90129801675593               6  38.33   \n",
       "3    -6.8      -6.70817   258.7849490580029              10  81.44   \n",
       "5    -6.6      -5.93379  243.86204774367437               7  41.99   \n",
       "6    -7.3      -6.87178  315.78920321895714               5  75.02   \n",
       "..    ...           ...                 ...             ...    ...   \n",
       "394  -7.5      -6.69777   336.1791334597853               4  65.64   \n",
       "261  -6.6      -6.42551  256.04735744942843               5  41.99   \n",
       "457  -5.9      -7.15273  430.07598936485266              15  71.53   \n",
       "502  -5.6      -5.60961   214.4630217489226               3  51.22   \n",
       "7      -7      -7.78055  376.80835346108546               7  65.12   \n",
       "\n",
       "    Molecular Weight  XLogP  Active  \n",
       "0            370.239  3.517     0.0  \n",
       "1            255.126  2.977     0.0  \n",
       "3             334.06  2.623     0.0  \n",
       "5            296.053  3.156     0.0  \n",
       "6            337.182  2.265     0.0  \n",
       "..               ...    ...     ...  \n",
       "394          363.158  3.564     1.0  \n",
       "261          266.142  2.844     1.0  \n",
       "457          423.252  4.237     1.0  \n",
       "502          232.121  0.162     1.0  \n",
       "7            428.138  0.844     1.0  \n",
       "\n",
       "[540 rows x 8 columns]"
      ]
     },
     "execution_count": 39,
     "metadata": {},
     "output_type": "execute_result"
    }
   ],
   "source": [
    "upsampled"
   ]
  },
  {
   "cell_type": "code",
   "execution_count": 40,
   "metadata": {
    "scrolled": true
   },
   "outputs": [
    {
     "name": "stdout",
     "output_type": "stream",
     "text": [
      "Logistic Regression\n",
      "accuracy_score: 0.6216216216216216\n",
      "f1_score: 0.435483870967742\n",
      "recall_score: 0.675\n",
      "\n",
      "Random Forest\n",
      "accuracy_score: 0.6702702702702703\n",
      "f1_score: 0.08955223880597014\n",
      "recall_score: 0.075\n",
      "\n",
      "SVM\n",
      "accuracy_score: 0.6432432432432432\n",
      "f1_score: 0.4761904761904763\n",
      "recall_score: 0.75\n",
      "\n"
     ]
    }
   ],
   "source": [
    "y_train = upsampled['Active']\n",
    "X_train = upsampled.drop('Active', axis=1)\n",
    "\n",
    "lr_pred = predict(X_train, y_train, method='lr')\n",
    "print('Logistic Regression')\n",
    "print_metrics(y_test, lr_pred)\n",
    "\n",
    "rfc_pred = predict(X_train, y_train, method='rf')\n",
    "print('Random Forest')\n",
    "print_metrics(y_test, rfc_pred)\n",
    "\n",
    "svm_pred = predict(X_train, y_train, method='svm')\n",
    "print('SVM')\n",
    "print_metrics(y_test, svm_pred)"
   ]
  },
  {
   "cell_type": "markdown",
   "metadata": {},
   "source": [
    "# Undersample majority class"
   ]
  },
  {
   "cell_type": "code",
   "execution_count": 41,
   "metadata": {
    "scrolled": true
   },
   "outputs": [
    {
     "data": {
      "text/plain": [
       "1.0    64\n",
       "0.0    64\n",
       "Name: Active, dtype: int64"
      ]
     },
     "execution_count": 41,
     "metadata": {},
     "output_type": "execute_result"
    }
   ],
   "source": [
    "new_inactive = resample(inactive, replace=False, n_samples=len(active), random_state=27)\n",
    "downsampled = pd.concat([new_inactive, active])\n",
    "downsampled['Active'].value_counts()"
   ]
  },
  {
   "cell_type": "code",
   "execution_count": 42,
   "metadata": {},
   "outputs": [
    {
     "name": "stdout",
     "output_type": "stream",
     "text": [
      "Logistic Regression\n",
      "accuracy_score: 0.5621621621621622\n",
      "f1_score: 0.39097744360902253\n",
      "recall_score: 0.65\n",
      "\n",
      "Random Forest\n",
      "accuracy_score: 0.5513513513513514\n",
      "f1_score: 0.3464566929133858\n",
      "recall_score: 0.55\n",
      "\n",
      "SVM\n",
      "accuracy_score: 0.572972972972973\n",
      "f1_score: 0.3875968992248062\n",
      "recall_score: 0.625\n",
      "\n"
     ]
    }
   ],
   "source": [
    "y_train = downsampled['Active']\n",
    "X_train = downsampled.drop('Active', axis=1)\n",
    "\n",
    "lr_pred = predict(X_train, y_train, method='lr')\n",
    "print('Logistic Regression')\n",
    "print_metrics(y_test, lr_pred)\n",
    "\n",
    "rfc_pred = predict(X_train, y_train, method='rf')\n",
    "print('Random Forest')\n",
    "print_metrics(y_test, rfc_pred)\n",
    "\n",
    "svm_pred = predict(X_train, y_train, method='svm')\n",
    "print('SVM')\n",
    "print_metrics(y_test, svm_pred)"
   ]
  },
  {
   "cell_type": "markdown",
   "metadata": {},
   "source": [
    "# SMOTE (Synthetic Minority Oversampling Technique)"
   ]
  },
  {
   "cell_type": "code",
   "execution_count": 43,
   "metadata": {},
   "outputs": [],
   "source": [
    "from imblearn.over_sampling import SMOTE"
   ]
  },
  {
   "cell_type": "code",
   "execution_count": 44,
   "metadata": {},
   "outputs": [],
   "source": [
    "y = data['Active']\n",
    "X = data[subset].values\n",
    "\n",
    "X_train, X_test, y_train, y_test = train_test_split(X, y, test_size=0.25, random_state=27)"
   ]
  },
  {
   "cell_type": "code",
   "execution_count": 45,
   "metadata": {},
   "outputs": [
    {
     "name": "stdout",
     "output_type": "stream",
     "text": [
      "Logistic Regression\n",
      "accuracy_score: 0.7513513513513513\n",
      "f1_score: 0.5106382978723405\n",
      "recall_score: 0.6\n",
      "\n",
      "Random Forest\n",
      "accuracy_score: 0.7405405405405405\n",
      "f1_score: 0.33333333333333326\n",
      "recall_score: 0.3\n",
      "\n",
      "SVM\n",
      "accuracy_score: 0.7405405405405405\n",
      "f1_score: 0.5294117647058822\n",
      "recall_score: 0.675\n",
      "\n"
     ]
    }
   ],
   "source": [
    "sm = SMOTE(random_state=27)\n",
    "X_train, y_train = sm.fit_sample(X_train, y_train)\n",
    "\n",
    "lr_pred = predict(X_train, y_train, method='lr')\n",
    "print('Logistic Regression')\n",
    "print_metrics(y_test, lr_pred)\n",
    "\n",
    "rfc_pred = predict(X_train, y_train, method='rf')\n",
    "print('Random Forest')\n",
    "print_metrics(y_test, rfc_pred)\n",
    "\n",
    "svm_pred = predict(X_train, y_train, method='svm')\n",
    "print('SVM')\n",
    "print_metrics(y_test, svm_pred)"
   ]
  },
  {
   "cell_type": "markdown",
   "metadata": {},
   "source": [
    "# Model evaluation"
   ]
  },
  {
   "cell_type": "code",
   "execution_count": 46,
   "metadata": {},
   "outputs": [],
   "source": [
    "from sklearn.metrics import roc_curve, auc"
   ]
  },
  {
   "cell_type": "code",
   "execution_count": 47,
   "metadata": {},
   "outputs": [
    {
     "name": "stdout",
     "output_type": "stream",
     "text": [
      "[Scoring Function]: [AUC]\n",
      "qvina: 0.478197\n",
      "rfscore_qvina: 0.494278\n",
      "plants: 0.435175\n",
      "rfscore_plants: 0.498369\n"
     ]
    },
    {
     "data": {
      "text/plain": [
       "<matplotlib.legend.Legend at 0x7fbf458bf8b0>"
      ]
     },
     "execution_count": 47,
     "metadata": {},
     "output_type": "execute_result"
    },
    {
     "data": {
      "image/png": "[encoded data removed]",
      "text/plain": [
       "<Figure size 432x288 with 1 Axes>"
      ]
     },
     "metadata": {
      "needs_background": "light"
     },
     "output_type": "display_data"
    }
   ],
   "source": [
    "print('[Scoring Function]: [AUC]')\n",
    "fig, ax = plt.subplots()\n",
    "\n",
    "for SF in ['qvina','rfscore_qvina','plants','rfscore_plants']:\n",
    "    # 1st top pose according to each scoring function\n",
    "    fpr, tpr, _ = roc_curve(data['Active'].to_numpy(), \n",
    "                            data[SF].to_numpy())\n",
    "    roc_auc = auc(fpr, tpr)\n",
    "    print(f'{SF}: {roc_auc:>.6f}')\n",
    "    ax.plot(fpr, tpr, label=f'{SF} = {roc_auc:>.2f}')\n",
    "\n",
    "# Plot a line\n",
    "ax.plot([0,1], [0,1], linestyle='--')\n",
    "\n",
    "# Some legends\n",
    "ax.set(xlim=[0.0,1.0], ylim=[0.0,1.05], xlabel='False Positive Rate', ylabel='True Positive Rate', \n",
    "       title='Receiver Operating Characteristics')\n",
    "plt.legend(title='Scoring Function', loc='center left', bbox_to_anchor=(1.0, 0.5))"
   ]
  },
  {
   "cell_type": "code",
   "execution_count": null,
   "metadata": {},
   "outputs": [],
   "source": []
  }
 ],
 "metadata": {
  "kernelspec": {
   "display_name": "Python 3",
   "language": "python",
   "name": "python3"
  },
  "language_info": {
   "codemirror_mode": {
    "name": "ipython",
    "version": 3
   },
   "file_extension": ".py",
   "mimetype": "text/x-python",
   "name": "python",
   "nbconvert_exporter": "python",
   "pygments_lexer": "ipython3",
   "version": "3.8.3"
  }
 },
 "nbformat": 4,
 "nbformat_minor": 4
}
